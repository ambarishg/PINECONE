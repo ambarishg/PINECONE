{
 "cells": [
  {
   "cell_type": "code",
   "execution_count": 1,
   "metadata": {},
   "outputs": [],
   "source": [
    "# Model Settings\n",
    "MODEL_NAME=\"all-MiniLM-L6-v2\"\n",
    "\n",
    "# Pinecone Settings\n",
    "PINECONE_API_KEY=\"e72e0b7c-e243-41eb-b497-3fc23b3105fb\"\n",
    "PINECONE_INDEX_NAME=\"docs\"\n",
    "PINECONE_REGION=\"us-east1-gcp\""
   ]
  },
  {
   "cell_type": "code",
   "execution_count": 2,
   "metadata": {},
   "outputs": [
    {
     "name": "stderr",
     "output_type": "stream",
     "text": [
      "C:\\Users\\ambar\\AppData\\Roaming\\Python\\Python39\\site-packages\\pinecone\\index.py:4: TqdmExperimentalWarning: Using `tqdm.autonotebook.tqdm` in notebook mode. Use `tqdm.tqdm` instead to force console mode (e.g. in jupyter console)\n",
      "  from tqdm.autonotebook import tqdm\n"
     ]
    }
   ],
   "source": [
    "import pinecone\n",
    "from sentence_transformers import SentenceTransformer"
   ]
  },
  {
   "attachments": {},
   "cell_type": "markdown",
   "metadata": {},
   "source": [
    "# PINECONE "
   ]
  },
  {
   "cell_type": "code",
   "execution_count": 3,
   "metadata": {},
   "outputs": [],
   "source": [
    "pinecone.init(api_key=PINECONE_API_KEY, environment=PINECONE_REGION)\n",
    "index = pinecone.Index(PINECONE_INDEX_NAME)"
   ]
  },
  {
   "cell_type": "code",
   "execution_count": 4,
   "metadata": {},
   "outputs": [],
   "source": [
    "model = SentenceTransformer(MODEL_NAME)"
   ]
  },
  {
   "cell_type": "code",
   "execution_count": 5,
   "metadata": {},
   "outputs": [],
   "source": [
    "query = \"What is Segmentation?\"\n",
    "\n",
    "xq = model.encode([query]).tolist()"
   ]
  },
  {
   "cell_type": "code",
   "execution_count": 6,
   "metadata": {},
   "outputs": [],
   "source": [
    "xc = index.query(xq, top_k=3,\n",
    "                 include_metadata=True)"
   ]
  },
  {
   "cell_type": "code",
   "execution_count": 7,
   "metadata": {},
   "outputs": [
    {
     "data": {
      "text/plain": [
       "{'matches': [{'id': '31659e4f-f37e-45b9-97fe-bb7ab6a32eb0',\n",
       "              'metadata': {'category': 'ncert',\n",
       "                           'filename': 'C:/Ambarish/PINECONE/docs/CHAP06AnatomyFloweringPlants.pdf',\n",
       "                           'sentence': 'Study of internal structure of plants '\n",
       "                                       'is called anatomy.'},\n",
       "              'score': 0.33593443,\n",
       "              'values': []},\n",
       "             {'id': '6dccce3d-86ad-4c37-8662-080038157000',\n",
       "              'metadata': {'category': 'ncert',\n",
       "                           'filename': 'C:/Ambarish/PINECONE/docs/CHAP04AnimalKingdom.pdf',\n",
       "                           'sentence': 'Here\\n'\n",
       "                                       'the cells performing the same function '\n",
       "                                       'are arranged into tissues, hence is\\n'\n",
       "                                       'called tissue level  of organisation.'},\n",
       "              'score': 0.328107536,\n",
       "              'values': []},\n",
       "             {'id': '8ac4ee1b-fac8-4f41-96bd-8ae6c45252ad',\n",
       "              'metadata': {'category': 'ncert',\n",
       "                           'filename': 'C:/Ambarish/PINECONE/docs/CHAP04AnimalKingdom.pdf',\n",
       "                           'sentence': 'These features are used\\n'\n",
       "                                       'as the basis of animal classification '\n",
       "                                       'and some of them are discussed here.'},\n",
       "              'score': 0.327064365,\n",
       "              'values': []}],\n",
       " 'namespace': ''}"
      ]
     },
     "execution_count": 7,
     "metadata": {},
     "output_type": "execute_result"
    }
   ],
   "source": [
    "xc"
   ]
  },
  {
   "cell_type": "code",
   "execution_count": 8,
   "metadata": {},
   "outputs": [],
   "source": [
    "contexts = [\n",
    "        x['metadata']['sentence'] for x in xc['matches']\n",
    "    ]"
   ]
  },
  {
   "cell_type": "code",
   "execution_count": 9,
   "metadata": {},
   "outputs": [
    {
     "data": {
      "text/plain": [
       "['Study of internal structure of plants is called anatomy.',\n",
       " 'Here\\nthe cells performing the same function are arranged into tissues, hence is\\ncalled tissue level  of organisation.',\n",
       " 'These features are used\\nas the basis of animal classification and some of them are discussed here.']"
      ]
     },
     "execution_count": 9,
     "metadata": {},
     "output_type": "execute_result"
    }
   ],
   "source": [
    "contexts"
   ]
  },
  {
   "cell_type": "code",
   "execution_count": 10,
   "metadata": {},
   "outputs": [],
   "source": [
    "import openai\n",
    "key = 'd6bcc40e68fc4119abcd43b4661dc8e3'\n",
    "location = 'eastus'\n",
    "endpoint = 'https://openaidemos007.openai.azure.com/'\n",
    "openai.api_type = \"azure\"\n",
    "openai.api_key = key\n",
    "openai.api_base = endpoint\n",
    "deployment_id_gpt4='gpt4'\n",
    "openai.api_key = key\n",
    "\n",
    "def create_prompt(context,query):\n",
    "    header = \"Answer the question as truthfully as possible using the provided context, and if the answer is not contained within the text and requires some latest information to be updated, print 'Sorry Not Sufficient context to answer query' \\n\"\n",
    "    return header + context + \"\\n\\n\" + query + \"\\n\"\n",
    "\n",
    "\n",
    "def generate_answer(conversation):\n",
    "    openai.api_version = \"2023-03-15-preview\"\n",
    "    response = openai.ChatCompletion.create(\n",
    "    engine=deployment_id_gpt4,\n",
    "    messages=conversation,\n",
    "    temperature=0,\n",
    "    max_tokens=1000,\n",
    "    top_p=1,\n",
    "    frequency_penalty=0,\n",
    "    presence_penalty=0,\n",
    "    stop = [' END']\n",
    "    )\n",
    "    return (response['choices'][0]['message']['content']).strip()\n"
   ]
  },
  {
   "cell_type": "code",
   "execution_count": 11,
   "metadata": {},
   "outputs": [],
   "source": [
    "conversation=[{\"role\": \"system\", \"content\": \"Assistant is a large language model trained by OpenAI.\"}]\n",
    "context= \"\\n\\n\".join(contexts)\n",
    "prompt = create_prompt(context,query)            \n",
    "conversation.append({\"role\": \"assistant\", \"content\": prompt})\n",
    "conversation.append({\"role\": \"user\", \"content\": query})\n",
    "reply = generate_answer(conversation)"
   ]
  },
  {
   "cell_type": "code",
   "execution_count": 12,
   "metadata": {},
   "outputs": [
    {
     "data": {
      "text/plain": [
       "'Study of internal structure of plants is called anatomy.\\n\\nHere\\nthe cells performing the same function are arranged into tissues, hence is\\ncalled tissue level  of organisation.\\n\\nThese features are used\\nas the basis of animal classification and some of them are discussed here.'"
      ]
     },
     "execution_count": 12,
     "metadata": {},
     "output_type": "execute_result"
    }
   ],
   "source": [
    "context"
   ]
  },
  {
   "cell_type": "code",
   "execution_count": 13,
   "metadata": {},
   "outputs": [
    {
     "data": {
      "text/plain": [
       "\"Segmentation refers to the division of an organism's body into a series of similar, repeating units or segments. This characteristic is commonly found in certain animal groups, such as annelids (segmented worms) and arthropods (insects, spiders, and crustaceans). Segmentation can provide advantages for movement, flexibility, and the ability to adapt to different environments.\""
      ]
     },
     "execution_count": 13,
     "metadata": {},
     "output_type": "execute_result"
    }
   ],
   "source": [
    "reply"
   ]
  },
  {
   "cell_type": "code",
   "execution_count": 14,
   "metadata": {},
   "outputs": [
    {
     "name": "stdout",
     "output_type": "stream",
     "text": [
      "(\"Segmentation refers to the division of an organism's body into a series of \"\n",
      " 'similar, repeating units or segments. This characteristic is commonly found '\n",
      " 'in certain animal groups, such as annelids (segmented worms) and arthropods '\n",
      " '(insects, spiders, and crustaceans). Segmentation can provide advantages for '\n",
      " 'movement, flexibility, and the ability to adapt to different environments.')\n"
     ]
    }
   ],
   "source": [
    "from pprint import pprint\n",
    "pprint(reply)"
   ]
  },
  {
   "cell_type": "code",
   "execution_count": null,
   "metadata": {},
   "outputs": [],
   "source": []
  }
 ],
 "metadata": {
  "kernelspec": {
   "display_name": "base",
   "language": "python",
   "name": "python3"
  },
  "language_info": {
   "codemirror_mode": {
    "name": "ipython",
    "version": 3
   },
   "file_extension": ".py",
   "mimetype": "text/x-python",
   "name": "python",
   "nbconvert_exporter": "python",
   "pygments_lexer": "ipython3",
   "version": "3.9.13"
  },
  "orig_nbformat": 4
 },
 "nbformat": 4,
 "nbformat_minor": 2
}
