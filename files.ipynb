{
 "cells": [
  {
   "cell_type": "code",
   "execution_count": 5,
   "metadata": {},
   "outputs": [],
   "source": [
    "FILE_PATH = \"C:/Ambarish/sustainability_hackathon/source/sustainability_hub/NCERT\""
   ]
  },
  {
   "cell_type": "code",
   "execution_count": 6,
   "metadata": {},
   "outputs": [],
   "source": [
    "import os"
   ]
  },
  {
   "cell_type": "code",
   "execution_count": 7,
   "metadata": {},
   "outputs": [],
   "source": [
    "files = os.listdir(FILE_PATH)"
   ]
  },
  {
   "cell_type": "code",
   "execution_count": 8,
   "metadata": {},
   "outputs": [
    {
     "data": {
      "text/plain": [
       "['CHAP04AnimalKingdom.pdf',\n",
       " 'CHAP05StructuralOrganization.pdf',\n",
       " 'CHAP06AnatomyFloweringPlants.pdf',\n",
       " 'CHAP07StructuralOrganizationAnimals.pdf',\n",
       " 'CHAP08CellStructure.pdf',\n",
       " 'Chap09BioMolecules.pdf',\n",
       " 'Chap10CellCycle.pdf',\n",
       " 'Chap11PlantPhysiology.pdf',\n",
       " 'Chap12RespirationPlants.pdf',\n",
       " 'Chap13PlantGrowthAndDevelopment.pdf',\n",
       " 'Chap14Breathing.pdf',\n",
       " 'Chap15BodyFluidsAndCirculation.pdf',\n",
       " 'Chap16Excretion.pdf',\n",
       " 'Chap17Locomotion.pdf',\n",
       " 'Chap18NeuralControl.pdf',\n",
       " 'Chap19ChemicalCoordination.pdf',\n",
       " 'Chap20Locomotion.pdf']"
      ]
     },
     "execution_count": 8,
     "metadata": {},
     "output_type": "execute_result"
    }
   ],
   "source": [
    "files"
   ]
  },
  {
   "cell_type": "code",
   "execution_count": 9,
   "metadata": {},
   "outputs": [
    {
     "name": "stdout",
     "output_type": "stream",
     "text": [
      "CHAP04AnimalKingdom.pdf\n",
      "CHAP05StructuralOrganization.pdf\n",
      "CHAP06AnatomyFloweringPlants.pdf\n",
      "CHAP07StructuralOrganizationAnimals.pdf\n",
      "CHAP08CellStructure.pdf\n",
      "Chap09BioMolecules.pdf\n",
      "Chap10CellCycle.pdf\n",
      "Chap11PlantPhysiology.pdf\n",
      "Chap12RespirationPlants.pdf\n",
      "Chap13PlantGrowthAndDevelopment.pdf\n",
      "Chap14Breathing.pdf\n",
      "Chap15BodyFluidsAndCirculation.pdf\n",
      "Chap16Excretion.pdf\n",
      "Chap17Locomotion.pdf\n",
      "Chap18NeuralControl.pdf\n",
      "Chap19ChemicalCoordination.pdf\n",
      "Chap20Locomotion.pdf\n"
     ]
    }
   ],
   "source": [
    "for file in files:\n",
    "    if file.endswith(\".pdf\"):\n",
    "        print(file)"
   ]
  },
  {
   "cell_type": "code",
   "execution_count": null,
   "metadata": {},
   "outputs": [],
   "source": []
  }
 ],
 "metadata": {
  "kernelspec": {
   "display_name": "base",
   "language": "python",
   "name": "python3"
  },
  "language_info": {
   "codemirror_mode": {
    "name": "ipython",
    "version": 3
   },
   "file_extension": ".py",
   "mimetype": "text/x-python",
   "name": "python",
   "nbconvert_exporter": "python",
   "pygments_lexer": "ipython3",
   "version": "3.9.13"
  },
  "orig_nbformat": 4
 },
 "nbformat": 4,
 "nbformat_minor": 2
}
