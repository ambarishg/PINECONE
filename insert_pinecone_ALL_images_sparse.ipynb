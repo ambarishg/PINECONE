{
 "cells": [
  {
   "cell_type": "code",
   "execution_count": 25,
   "metadata": {},
   "outputs": [],
   "source": [
    "FILE_PATH = \"C:/Ambarish/shopppeedata2/\"\n",
    "\n",
    "# Model Settings\n",
    "MODEL_NAME=\"clip-ViT-B-32\"\n",
    "\n",
    "# Pinecone Settings\n",
    "PINECONE_API_KEY=\"e72e0b7c-e243-41eb-b497-3fc23b3105fb\"\n",
    "PINECONE_INDEX_NAME=\"docs\"\n",
    "PINECONE_REGION=\"us-east1-gcp\"\n",
    "CATEGORY=\"IMAGES\""
   ]
  },
  {
   "cell_type": "code",
   "execution_count": 26,
   "metadata": {},
   "outputs": [],
   "source": [
    "from PIL import Image\n",
    "import pinecone\n",
    "from sentence_transformers import SentenceTransformer\n",
    "import os\n",
    "import pandas as pd"
   ]
  },
  {
   "cell_type": "code",
   "execution_count": 27,
   "metadata": {},
   "outputs": [],
   "source": [
    "train = pd.read_csv(\"train.csv\")"
   ]
  },
  {
   "cell_type": "code",
   "execution_count": 28,
   "metadata": {},
   "outputs": [
    {
     "data": {
      "text/html": [
       "<div>\n",
       "<style scoped>\n",
       "    .dataframe tbody tr th:only-of-type {\n",
       "        vertical-align: middle;\n",
       "    }\n",
       "\n",
       "    .dataframe tbody tr th {\n",
       "        vertical-align: top;\n",
       "    }\n",
       "\n",
       "    .dataframe thead th {\n",
       "        text-align: right;\n",
       "    }\n",
       "</style>\n",
       "<table border=\"1\" class=\"dataframe\">\n",
       "  <thead>\n",
       "    <tr style=\"text-align: right;\">\n",
       "      <th></th>\n",
       "      <th>posting_id</th>\n",
       "      <th>image</th>\n",
       "      <th>image_phash</th>\n",
       "      <th>title</th>\n",
       "      <th>label_group</th>\n",
       "    </tr>\n",
       "  </thead>\n",
       "  <tbody>\n",
       "    <tr>\n",
       "      <th>0</th>\n",
       "      <td>train_129225211</td>\n",
       "      <td>0000a68812bc7e98c42888dfb1c07da0.jpg</td>\n",
       "      <td>94974f937d4c2433</td>\n",
       "      <td>Paper Bag Victoria Secret</td>\n",
       "      <td>249114794</td>\n",
       "    </tr>\n",
       "    <tr>\n",
       "      <th>1</th>\n",
       "      <td>train_3386243561</td>\n",
       "      <td>00039780dfc94d01db8676fe789ecd05.jpg</td>\n",
       "      <td>af3f9460c2838f0f</td>\n",
       "      <td>Double Tape 3M VHB 12 mm x 4,5 m ORIGINAL / DO...</td>\n",
       "      <td>2937985045</td>\n",
       "    </tr>\n",
       "    <tr>\n",
       "      <th>2</th>\n",
       "      <td>train_2288590299</td>\n",
       "      <td>000a190fdd715a2a36faed16e2c65df7.jpg</td>\n",
       "      <td>b94cb00ed3e50f78</td>\n",
       "      <td>Maling TTS Canned Pork Luncheon Meat 397 gr</td>\n",
       "      <td>2395904891</td>\n",
       "    </tr>\n",
       "    <tr>\n",
       "      <th>3</th>\n",
       "      <td>train_2406599165</td>\n",
       "      <td>00117e4fc239b1b641ff08340b429633.jpg</td>\n",
       "      <td>8514fc58eafea283</td>\n",
       "      <td>Daster Batik Lengan pendek - Motif Acak / Camp...</td>\n",
       "      <td>4093212188</td>\n",
       "    </tr>\n",
       "    <tr>\n",
       "      <th>4</th>\n",
       "      <td>train_3369186413</td>\n",
       "      <td>00136d1cf4edede0203f32f05f660588.jpg</td>\n",
       "      <td>a6f319f924ad708c</td>\n",
       "      <td>Nescafe \\xc3\\x89clair Latte 220ml</td>\n",
       "      <td>3648931069</td>\n",
       "    </tr>\n",
       "  </tbody>\n",
       "</table>\n",
       "</div>"
      ],
      "text/plain": [
       "         posting_id                                 image       image_phash  \\\n",
       "0   train_129225211  0000a68812bc7e98c42888dfb1c07da0.jpg  94974f937d4c2433   \n",
       "1  train_3386243561  00039780dfc94d01db8676fe789ecd05.jpg  af3f9460c2838f0f   \n",
       "2  train_2288590299  000a190fdd715a2a36faed16e2c65df7.jpg  b94cb00ed3e50f78   \n",
       "3  train_2406599165  00117e4fc239b1b641ff08340b429633.jpg  8514fc58eafea283   \n",
       "4  train_3369186413  00136d1cf4edede0203f32f05f660588.jpg  a6f319f924ad708c   \n",
       "\n",
       "                                               title  label_group  \n",
       "0                          Paper Bag Victoria Secret    249114794  \n",
       "1  Double Tape 3M VHB 12 mm x 4,5 m ORIGINAL / DO...   2937985045  \n",
       "2        Maling TTS Canned Pork Luncheon Meat 397 gr   2395904891  \n",
       "3  Daster Batik Lengan pendek - Motif Acak / Camp...   4093212188  \n",
       "4                  Nescafe \\xc3\\x89clair Latte 220ml   3648931069  "
      ]
     },
     "execution_count": 28,
     "metadata": {},
     "output_type": "execute_result"
    }
   ],
   "source": [
    "train.head()"
   ]
  },
  {
   "cell_type": "code",
   "execution_count": 29,
   "metadata": {},
   "outputs": [],
   "source": [
    "files = os.listdir(FILE_PATH)"
   ]
  },
  {
   "cell_type": "code",
   "execution_count": 30,
   "metadata": {},
   "outputs": [],
   "source": [
    "df_files = pd.DataFrame(files,columns=[\"image\"])"
   ]
  },
  {
   "cell_type": "code",
   "execution_count": 31,
   "metadata": {},
   "outputs": [
    {
     "data": {
      "text/html": [
       "<div>\n",
       "<style scoped>\n",
       "    .dataframe tbody tr th:only-of-type {\n",
       "        vertical-align: middle;\n",
       "    }\n",
       "\n",
       "    .dataframe tbody tr th {\n",
       "        vertical-align: top;\n",
       "    }\n",
       "\n",
       "    .dataframe thead th {\n",
       "        text-align: right;\n",
       "    }\n",
       "</style>\n",
       "<table border=\"1\" class=\"dataframe\">\n",
       "  <thead>\n",
       "    <tr style=\"text-align: right;\">\n",
       "      <th></th>\n",
       "      <th>image</th>\n",
       "    </tr>\n",
       "  </thead>\n",
       "  <tbody>\n",
       "    <tr>\n",
       "      <th>0</th>\n",
       "      <td>0000a68812bc7e98c42888dfb1c07da0.jpg</td>\n",
       "    </tr>\n",
       "    <tr>\n",
       "      <th>1</th>\n",
       "      <td>000a190fdd715a2a36faed16e2c65df7.jpg</td>\n",
       "    </tr>\n",
       "    <tr>\n",
       "      <th>2</th>\n",
       "      <td>00a56fef82c06a746b24237f66f4c6de.jpg</td>\n",
       "    </tr>\n",
       "    <tr>\n",
       "      <th>3</th>\n",
       "      <td>00a5b7d85f39222ad75b0d69886a6b58.jpg</td>\n",
       "    </tr>\n",
       "    <tr>\n",
       "      <th>4</th>\n",
       "      <td>00a798efae9db3d6d5324daebfea2652.jpg</td>\n",
       "    </tr>\n",
       "  </tbody>\n",
       "</table>\n",
       "</div>"
      ],
      "text/plain": [
       "                                  image\n",
       "0  0000a68812bc7e98c42888dfb1c07da0.jpg\n",
       "1  000a190fdd715a2a36faed16e2c65df7.jpg\n",
       "2  00a56fef82c06a746b24237f66f4c6de.jpg\n",
       "3  00a5b7d85f39222ad75b0d69886a6b58.jpg\n",
       "4  00a798efae9db3d6d5324daebfea2652.jpg"
      ]
     },
     "execution_count": 31,
     "metadata": {},
     "output_type": "execute_result"
    }
   ],
   "source": [
    "df_files.head()"
   ]
  },
  {
   "cell_type": "code",
   "execution_count": 32,
   "metadata": {},
   "outputs": [],
   "source": [
    "df_files=df_files.merge(train,on=\"image\",how=\"inner\")"
   ]
  },
  {
   "cell_type": "code",
   "execution_count": 33,
   "metadata": {},
   "outputs": [],
   "source": [
    "title = df_files[\"title\"].tolist()"
   ]
  },
  {
   "cell_type": "code",
   "execution_count": 34,
   "metadata": {},
   "outputs": [
    {
     "data": {
      "text/plain": [
       "(542, 500)"
      ]
     },
     "execution_count": 34,
     "metadata": {},
     "output_type": "execute_result"
    }
   ],
   "source": [
    "len(title),len(files)"
   ]
  },
  {
   "cell_type": "code",
   "execution_count": 35,
   "metadata": {},
   "outputs": [],
   "source": [
    "title_all = []\n",
    "file_name_list = []"
   ]
  },
  {
   "cell_type": "code",
   "execution_count": 36,
   "metadata": {},
   "outputs": [],
   "source": [
    "for filename in files:\n",
    "    x = df_files[df_files[\"image\"]==filename]\n",
    "    for index,row in x.iterrows():\n",
    "        title_name = \"\"\n",
    "        file_name_ = \"\"\n",
    "        if (index > 0):\n",
    "            title_name = title_name + \" \" + row[\"title\"]\n",
    "            file_name_ = file_name_ + \" \" + row[\"image\"]\n",
    "        else:\n",
    "            title_name = row[\"title\"]\n",
    "            file_name_ = row[\"image\"]\n",
    "    title_all.append(title_name.strip())\n",
    "    file_name_list.append(file_name_.strip())"
   ]
  },
  {
   "cell_type": "code",
   "execution_count": 37,
   "metadata": {},
   "outputs": [
    {
     "data": {
      "text/plain": [
       "500"
      ]
     },
     "execution_count": 37,
     "metadata": {},
     "output_type": "execute_result"
    }
   ],
   "source": [
    "len(title_all)"
   ]
  },
  {
   "cell_type": "code",
   "execution_count": 38,
   "metadata": {},
   "outputs": [
    {
     "data": {
      "text/plain": [
       "'D060 JTFS KAOS KAKI POLOS KAOS KAKI BAHAN SPANDEK PLUS POLYESTER KAOS KAKI MURAH BATAM IMPORT'"
      ]
     },
     "execution_count": 38,
     "metadata": {},
     "output_type": "execute_result"
    }
   ],
   "source": [
    "title_all[67]"
   ]
  },
  {
   "cell_type": "code",
   "execution_count": 40,
   "metadata": {},
   "outputs": [
    {
     "data": {
      "text/plain": [
       "'0a2dfbf3d0a711d5f96451648dbbdac0.jpg'"
      ]
     },
     "execution_count": 40,
     "metadata": {},
     "output_type": "execute_result"
    }
   ],
   "source": [
    "file_name_list[67]"
   ]
  },
  {
   "cell_type": "code",
   "execution_count": 124,
   "metadata": {},
   "outputs": [],
   "source": [
    "from pinecone_text.sparse import BM25Encoder"
   ]
  },
  {
   "cell_type": "code",
   "execution_count": 125,
   "metadata": {},
   "outputs": [],
   "source": [
    "bm25 = BM25Encoder()"
   ]
  },
  {
   "cell_type": "code",
   "execution_count": 126,
   "metadata": {},
   "outputs": [],
   "source": [
    "pinecone.init(api_key=PINECONE_API_KEY, environment=PINECONE_REGION)\n",
    "index = pinecone.Index(PINECONE_INDEX_NAME)"
   ]
  },
  {
   "cell_type": "code",
   "execution_count": 127,
   "metadata": {},
   "outputs": [],
   "source": [
    "model = SentenceTransformer(MODEL_NAME)"
   ]
  },
  {
   "cell_type": "code",
   "execution_count": 128,
   "metadata": {},
   "outputs": [
    {
     "data": {
      "application/vnd.jupyter.widget-view+json": {
       "model_id": "b1e1d5f375fb4229b9e8ab501c761b62",
       "version_major": 2,
       "version_minor": 0
      },
      "text/plain": [
       "  0%|          | 0/501 [00:00<?, ?it/s]"
      ]
     },
     "metadata": {},
     "output_type": "display_data"
    },
    {
     "data": {
      "text/plain": [
       "<pinecone_text.sparse.bm25_encoder.BM25Encoder at 0x24b1f877d00>"
      ]
     },
     "execution_count": 128,
     "metadata": {},
     "output_type": "execute_result"
    }
   ],
   "source": [
    "bm25.fit(title_all)"
   ]
  },
  {
   "cell_type": "code",
   "execution_count": 129,
   "metadata": {},
   "outputs": [],
   "source": [
    "sparse_embeds = bm25.encode_documents(title_all[0])"
   ]
  },
  {
   "cell_type": "code",
   "execution_count": 130,
   "metadata": {},
   "outputs": [
    {
     "data": {
      "text/plain": [
       "'Dear Me Beauty Perfect Lasting Lip Tint Liptint'"
      ]
     },
     "execution_count": 130,
     "metadata": {},
     "output_type": "execute_result"
    }
   ],
   "source": [
    "title_all[171]"
   ]
  },
  {
   "cell_type": "code",
   "execution_count": 131,
   "metadata": {},
   "outputs": [
    {
     "data": {
      "text/plain": [
       "47"
      ]
     },
     "execution_count": 131,
     "metadata": {},
     "output_type": "execute_result"
    }
   ],
   "source": [
    "len(title_all[171])"
   ]
  },
  {
   "cell_type": "code",
   "execution_count": 132,
   "metadata": {},
   "outputs": [
    {
     "data": {
      "text/plain": [
       "dict"
      ]
     },
     "execution_count": 132,
     "metadata": {},
     "output_type": "execute_result"
    }
   ],
   "source": [
    "type(sparse_embeds)"
   ]
  },
  {
   "cell_type": "code",
   "execution_count": 133,
   "metadata": {},
   "outputs": [],
   "source": [
    "import uuid"
   ]
  },
  {
   "cell_type": "code",
   "execution_count": 134,
   "metadata": {},
   "outputs": [],
   "source": [
    "def addData(filename,counter):\n",
    "    id = str(uuid.uuid4())\n",
    "\n",
    "    index.upsert(vectors=[{\n",
    "        'id':id, \n",
    "        'values':model.encode(Image.open(filename)).tolist(), \n",
    "        'metadata':{'category':CATEGORY,'filename':filename},\n",
    "           'sparse_values':\n",
    "           bm25.encode_documents(title_all[counter])}],\n",
    "    )"
   ]
  },
  {
   "cell_type": "code",
   "execution_count": 135,
   "metadata": {},
   "outputs": [],
   "source": [
    "def insert_pinecone(filename,counter):\n",
    "    print(\"Processing file: \", filename)\n",
    "    addData(filename,counter)"
   ]
  },
  {
   "cell_type": "code",
   "execution_count": 136,
   "metadata": {},
   "outputs": [],
   "source": [
    "def insert_pinecone_file_path(file_path):\n",
    "    files = os.listdir(file_path)\n",
    "    counter = 0\n",
    "    for filename in files:\n",
    "        if filename.endswith(\".jpg\"):\n",
    "            insert_pinecone(file_path + filename,counter)\n",
    "            counter = counter + 1"
   ]
  },
  {
   "cell_type": "code",
   "execution_count": 137,
   "metadata": {},
   "outputs": [
    {
     "name": "stdout",
     "output_type": "stream",
     "text": [
      "Processing file:  C:/Ambarish/shopppeedata2/0000a68812bc7e98c42888dfb1c07da0.jpg\n",
      "Processing file:  C:/Ambarish/shopppeedata2/000a190fdd715a2a36faed16e2c65df7.jpg\n",
      "Processing file:  C:/Ambarish/shopppeedata2/00a56fef82c06a746b24237f66f4c6de.jpg\n",
      "Processing file:  C:/Ambarish/shopppeedata2/00a5b7d85f39222ad75b0d69886a6b58.jpg\n",
      "Processing file:  C:/Ambarish/shopppeedata2/00a798efae9db3d6d5324daebfea2652.jpg\n",
      "Processing file:  C:/Ambarish/shopppeedata2/00a85688de263b6d315d11e1223e15aa.jpg\n",
      "Processing file:  C:/Ambarish/shopppeedata2/00a866b5d5db175b782db8c01a8e178a.jpg\n",
      "Processing file:  C:/Ambarish/shopppeedata2/00a8d112066ea78e33d5ef987091a6b4.jpg\n",
      "Processing file:  C:/Ambarish/shopppeedata2/00b116ee1a2f59352756dceddf542943.jpg\n",
      "Processing file:  C:/Ambarish/shopppeedata2/00b2375ec81ee1a5c739a62acc74f216.jpg\n",
      "Processing file:  C:/Ambarish/shopppeedata2/00b28182dd5b6f4615d92bd0a6d31810.jpg\n",
      "Processing file:  C:/Ambarish/shopppeedata2/00b558da33ffb34b620b0b5e79420c23.jpg\n",
      "Processing file:  C:/Ambarish/shopppeedata2/00b5bc701453b04717230b1a5f253a14.jpg\n",
      "Processing file:  C:/Ambarish/shopppeedata2/00b84a9606509d5e0901bdb6e150fe69.jpg\n",
      "Processing file:  C:/Ambarish/shopppeedata2/00b9f86046a30f68841671d510077cc6.jpg\n",
      "Processing file:  C:/Ambarish/shopppeedata2/00bcc4e47b0469389105b7ffc143be52.jpg\n",
      "Processing file:  C:/Ambarish/shopppeedata2/00be00018abbee3650a340d68a5eb5b0.jpg\n",
      "Processing file:  C:/Ambarish/shopppeedata2/00be15de5ebf1c990320e35a0a07cf68.jpg\n",
      "Processing file:  C:/Ambarish/shopppeedata2/00bf22807120bb5d2ffd4c1306622c0c.jpg\n",
      "Processing file:  C:/Ambarish/shopppeedata2/00c0bf2f89a9b2fe6a16935dc4d284ef.jpg\n",
      "Processing file:  C:/Ambarish/shopppeedata2/00c16e711348ef90d6929bbea5e029e1.jpg\n",
      "Processing file:  C:/Ambarish/shopppeedata2/00c22ed25816814caa9c434c92d81172.jpg\n",
      "Processing file:  C:/Ambarish/shopppeedata2/00c982e628bbc4dfed595fa941a920d5.jpg\n",
      "Processing file:  C:/Ambarish/shopppeedata2/00ca272935530e43f8574b3ef967cddb.jpg\n",
      "Processing file:  C:/Ambarish/shopppeedata2/00ca53e5d90eebb055e908978dc83b59.jpg\n",
      "Processing file:  C:/Ambarish/shopppeedata2/00cefe6ea00dafa4e441757802c72636.jpg\n",
      "Processing file:  C:/Ambarish/shopppeedata2/00d368b4331f37573f69d083f4437f0d.jpg\n",
      "Processing file:  C:/Ambarish/shopppeedata2/00d4a4865fa5c81896287fc2c3ea0e1d.jpg\n",
      "Processing file:  C:/Ambarish/shopppeedata2/00d51ca8c82a7aab77fee597477c4ca5.jpg\n",
      "Processing file:  C:/Ambarish/shopppeedata2/00d97097eeeb5fb5929562d70b1c9928.jpg\n",
      "Processing file:  C:/Ambarish/shopppeedata2/00da10b5912eb5484d0d2356b5afbd14.jpg\n",
      "Processing file:  C:/Ambarish/shopppeedata2/00da7df0a12574b0e2d9f2a89ff7186a.jpg\n",
      "Processing file:  C:/Ambarish/shopppeedata2/00e3e2ddacb5902fbd98dcb0a5d96ab9.jpg\n",
      "Processing file:  C:/Ambarish/shopppeedata2/00e65d8466dfdaa6e120f9630acd0a95.jpg\n",
      "Processing file:  C:/Ambarish/shopppeedata2/00e8bdeb54efedeb237bf11d10f2980d.jpg\n",
      "Processing file:  C:/Ambarish/shopppeedata2/00ea50369abb3c61ebe3f8c52c9b4650.jpg\n",
      "Processing file:  C:/Ambarish/shopppeedata2/00eacd479b6fc3af8e38fa666bdedd0c.jpg\n",
      "Processing file:  C:/Ambarish/shopppeedata2/00ec8f7b866765f14a09a82e356c4e83.jpg\n",
      "Processing file:  C:/Ambarish/shopppeedata2/00ed3811fc6176d6756118b14ae2f115.jpg\n",
      "Processing file:  C:/Ambarish/shopppeedata2/00ed730f2e7680a457fea19797b98492.jpg\n",
      "Processing file:  C:/Ambarish/shopppeedata2/00edb8b9fa46905f03ecfa49d505f44f.jpg\n",
      "Processing file:  C:/Ambarish/shopppeedata2/00ee86a6810cd9f2da6dd0f0f01b867f.jpg\n",
      "Processing file:  C:/Ambarish/shopppeedata2/00f02f109b48a4d169b9bd1a1e272fc7.jpg\n",
      "Processing file:  C:/Ambarish/shopppeedata2/00f101ffa0cbcf2c40293058a73e8112.jpg\n",
      "Processing file:  C:/Ambarish/shopppeedata2/00f671f9cc25eb024d5e6efb1b578dfc.jpg\n",
      "Processing file:  C:/Ambarish/shopppeedata2/00f713aa9c5b92e15ba9b2b3c92d2f70.jpg\n",
      "Processing file:  C:/Ambarish/shopppeedata2/00fe14ef4de2ab2c9203887a2960d261.jpg\n",
      "Processing file:  C:/Ambarish/shopppeedata2/0a0027b9155adcdd886761dcbf6a6ece.jpg\n",
      "Processing file:  C:/Ambarish/shopppeedata2/0a005efa0079b0766be5e8a8750a2ae2.jpg\n",
      "Processing file:  C:/Ambarish/shopppeedata2/0a01841b855e97c0303466fc4553fc5f.jpg\n",
      "Processing file:  C:/Ambarish/shopppeedata2/0a02a706583f0ae0d8776c634e138476.jpg\n",
      "Processing file:  C:/Ambarish/shopppeedata2/0a04382230bb3e9deedcf544033ba81a.jpg\n",
      "Processing file:  C:/Ambarish/shopppeedata2/0a0457919befb204b2d9dd7cac3c875a.jpg\n",
      "Processing file:  C:/Ambarish/shopppeedata2/0a04c126cd4321af435f0da3f266ea24.jpg\n",
      "Processing file:  C:/Ambarish/shopppeedata2/0a04ec671bd0dac0d024b13c9eeb2e94.jpg\n",
      "Processing file:  C:/Ambarish/shopppeedata2/0a07b3e4b34c478455ed495e6792b021.jpg\n",
      "Processing file:  C:/Ambarish/shopppeedata2/0a08f2c8b701f1857112a836e749d51d.jpg\n",
      "Processing file:  C:/Ambarish/shopppeedata2/0a0d257d1127f7d4298a7753875b372a.jpg\n",
      "Processing file:  C:/Ambarish/shopppeedata2/0a14ecc671491c92c43a7d2f03871ea5.jpg\n",
      "Processing file:  C:/Ambarish/shopppeedata2/0a17608e8933b475089f8cc4cd1f05b3.jpg\n",
      "Processing file:  C:/Ambarish/shopppeedata2/0a187384c3cab75cca54e574a49d366b.jpg\n",
      "Processing file:  C:/Ambarish/shopppeedata2/0a192a6d151da652e2424b458e72df28.jpg\n",
      "Processing file:  C:/Ambarish/shopppeedata2/0a1ad1756ba6219eb2359fd3ed2a7082.jpg\n",
      "Processing file:  C:/Ambarish/shopppeedata2/0a1c01e1b84cc6c6655dbf886fd72ead.jpg\n",
      "Processing file:  C:/Ambarish/shopppeedata2/0a1f72b12dee7317f586fa7f155dd681.jpg\n",
      "Processing file:  C:/Ambarish/shopppeedata2/0a24f5c564e9f2f532c959903d4263c6.jpg\n",
      "Processing file:  C:/Ambarish/shopppeedata2/0a2b3f8fabcf0aac03a66e4921246a2b.jpg\n",
      "Processing file:  C:/Ambarish/shopppeedata2/0a2dfbf3d0a711d5f96451648dbbdac0.jpg\n",
      "Processing file:  C:/Ambarish/shopppeedata2/0a350a8b7fd7a7f7e02c376fcec15a04.jpg\n",
      "Processing file:  C:/Ambarish/shopppeedata2/0a3541e1ab803b5b0c4f7e265e38a954.jpg\n",
      "Processing file:  C:/Ambarish/shopppeedata2/0a3ad318f168872362dbeeace46ac82d.jpg\n",
      "Processing file:  C:/Ambarish/shopppeedata2/0a3bbaee5e9a3b21125d0215b503b277.jpg\n",
      "Processing file:  C:/Ambarish/shopppeedata2/0a3c2b1f46fe9a8b1dc7af83e9d6583b.jpg\n",
      "Processing file:  C:/Ambarish/shopppeedata2/0a3e385aef5006781ccbfeb1bdc905d6.jpg\n",
      "Processing file:  C:/Ambarish/shopppeedata2/0a427eaa872baf2edd9864e2ff66c6e7.jpg\n",
      "Processing file:  C:/Ambarish/shopppeedata2/0a454d3c53d44104e38f132e1a416a41.jpg\n",
      "Processing file:  C:/Ambarish/shopppeedata2/0a45648f62d186f5a8145e6eeb39a117.jpg\n",
      "Processing file:  C:/Ambarish/shopppeedata2/0a4a3ffa0e82c5d84cb87d26e06ba320.jpg\n",
      "Processing file:  C:/Ambarish/shopppeedata2/0a4cc7666e7c6acac3f2a36aac7d8dd3.jpg\n",
      "Processing file:  C:/Ambarish/shopppeedata2/0a4d7e4921c38bf2bce770b60f05dc0f.jpg\n",
      "Processing file:  C:/Ambarish/shopppeedata2/0a506215c06edd2860b6881824eb35b7.jpg\n",
      "Processing file:  C:/Ambarish/shopppeedata2/0a568624d600f14319042fdb59dbcefa.jpg\n",
      "Processing file:  C:/Ambarish/shopppeedata2/0a57d17017639f05cf10e2835e293666.jpg\n",
      "Processing file:  C:/Ambarish/shopppeedata2/0a5a2753fba8ce8a8735712e7f9ac64d.jpg\n",
      "Processing file:  C:/Ambarish/shopppeedata2/0a5a86e1ffe9ff0f2e5784cfb38cd446.jpg\n",
      "Processing file:  C:/Ambarish/shopppeedata2/0a5b98ed554ff148aa6775e26666d6c4.jpg\n",
      "Processing file:  C:/Ambarish/shopppeedata2/0a5d6a1128aaacda96409aa9223820c0.jpg\n",
      "Processing file:  C:/Ambarish/shopppeedata2/0a6148e129e4f82be640d469f83d6322.jpg\n",
      "Processing file:  C:/Ambarish/shopppeedata2/0a61c0052ff72fb4c83f03ca79fd3bc6.jpg\n",
      "Processing file:  C:/Ambarish/shopppeedata2/0a62a43eb17973714cf510b11094ac20.jpg\n",
      "Processing file:  C:/Ambarish/shopppeedata2/0a6460e9e0dd7adc4eba4752949ac45a.jpg\n",
      "Processing file:  C:/Ambarish/shopppeedata2/0a647c32b957764b34e20fd08ea92a15.jpg\n",
      "Processing file:  C:/Ambarish/shopppeedata2/0a65b3cbb5668dedd8f2d6e184a3dd87.jpg\n",
      "Processing file:  C:/Ambarish/shopppeedata2/0a67a75952e031a1cc6a1ba3544812e9.jpg\n",
      "Processing file:  C:/Ambarish/shopppeedata2/0a68f2c8b6eab3352c602dfc7fea9e54.jpg\n",
      "Processing file:  C:/Ambarish/shopppeedata2/0a69566f62f62bddf21043fe5ed08310.jpg\n",
      "Processing file:  C:/Ambarish/shopppeedata2/0a6e8e7f6b5d03485203d33c13ffcd20.jpg\n",
      "Processing file:  C:/Ambarish/shopppeedata2/0a6ebc5e678200a07bedc1cc7c0826ab.jpg\n",
      "Processing file:  C:/Ambarish/shopppeedata2/0a6fce7a9343b6ca67cd72919e30f9eb.jpg\n",
      "Processing file:  C:/Ambarish/shopppeedata2/0a7159cd21482fea02b224f720ab0e60.jpg\n",
      "Processing file:  C:/Ambarish/shopppeedata2/0a716cd739bde491c9478a7427df942d.jpg\n",
      "Processing file:  C:/Ambarish/shopppeedata2/0a73489445ab0ad08cc8bdb4d7da6615.jpg\n",
      "Processing file:  C:/Ambarish/shopppeedata2/0a772c4c0ee5b7a3352c6225c28a2155.jpg\n",
      "Processing file:  C:/Ambarish/shopppeedata2/0a79c855faf44ec1e3334eea52b89ab5.jpg\n",
      "Processing file:  C:/Ambarish/shopppeedata2/0a7e07d11b9a42a08d136e4d81b21e36.jpg\n",
      "Processing file:  C:/Ambarish/shopppeedata2/0a81f3007eba107e4402d756ce33f321.jpg\n",
      "Processing file:  C:/Ambarish/shopppeedata2/0a820153efa657bc2ce44a4786b5e99e.jpg\n",
      "Processing file:  C:/Ambarish/shopppeedata2/0a8932290adeb92498946b40aa2545dc.jpg\n",
      "Processing file:  C:/Ambarish/shopppeedata2/0a89397fedfc5159a7e8ca691c3350f0.jpg\n",
      "Processing file:  C:/Ambarish/shopppeedata2/0a89ebf4cca24103ba02090271f3900e.jpg\n",
      "Processing file:  C:/Ambarish/shopppeedata2/0a90942646142462a1f1778c54e8a113.jpg\n",
      "Processing file:  C:/Ambarish/shopppeedata2/0a91e846dc46667b2528ee3ae7472405.jpg\n",
      "Processing file:  C:/Ambarish/shopppeedata2/0a93747e105c9aa915074c89ae198d2d.jpg\n",
      "Processing file:  C:/Ambarish/shopppeedata2/0a93e4c04aa0ef5e7937df7850af1873.jpg\n",
      "Processing file:  C:/Ambarish/shopppeedata2/0a9745d956a02c801fdadf81d6690a8e.jpg\n",
      "Processing file:  C:/Ambarish/shopppeedata2/0aa40fc52d8eab084f44343ce2d8093f.jpg\n",
      "Processing file:  C:/Ambarish/shopppeedata2/0aa412f87684cd1ba716d58d7ca6323a.jpg\n",
      "Processing file:  C:/Ambarish/shopppeedata2/0aa41cc81e327662bc843f008aac70ac.jpg\n",
      "Processing file:  C:/Ambarish/shopppeedata2/0aa78eb6fcd69974701eaae1c54e3395.jpg\n",
      "Processing file:  C:/Ambarish/shopppeedata2/0aa79c0add197e53df9b2db7a0f1526f.jpg\n",
      "Processing file:  C:/Ambarish/shopppeedata2/0aa900ffa314840d9b52b51a7075b5f3.jpg\n",
      "Processing file:  C:/Ambarish/shopppeedata2/0aa940ae43e4815a4946ffa27c04736f.jpg\n",
      "Processing file:  C:/Ambarish/shopppeedata2/0aad265e5199d026bb8d19912c8e31ac.jpg\n",
      "Processing file:  C:/Ambarish/shopppeedata2/0aaed845bfddcb32b70fdc6b4ba68239.jpg\n",
      "Processing file:  C:/Ambarish/shopppeedata2/0ab3943407213b34b48159952c71ddbe.jpg\n",
      "Processing file:  C:/Ambarish/shopppeedata2/0ab454cd563b622b9a5f628471a56a42.jpg\n",
      "Processing file:  C:/Ambarish/shopppeedata2/0ab4b6d52b4cc8ef858858878c4ef47a.jpg\n",
      "Processing file:  C:/Ambarish/shopppeedata2/0ab54451518501f1e5a46cbdb90509b5.jpg\n",
      "Processing file:  C:/Ambarish/shopppeedata2/0ab657ed56830bbbef5818e43b8af689.jpg\n",
      "Processing file:  C:/Ambarish/shopppeedata2/0abc583b5c0b90ad543c64d536977de3.jpg\n",
      "Processing file:  C:/Ambarish/shopppeedata2/0ac026aa392c984595d8e9ca2c7dc5f3.jpg\n",
      "Processing file:  C:/Ambarish/shopppeedata2/0ac2472386c90d7d0619fc410aa2b353.jpg\n",
      "Processing file:  C:/Ambarish/shopppeedata2/0ac448963400460fff1c1319f2e1e6d0.jpg\n",
      "Processing file:  C:/Ambarish/shopppeedata2/0ac563f99ef6664cfbb4fa732bd74657.jpg\n",
      "Processing file:  C:/Ambarish/shopppeedata2/0ac7ddef2f6e971efc6d007003745da3.jpg\n",
      "Processing file:  C:/Ambarish/shopppeedata2/0ac8a1e69683198b0464dee0823de3dd.jpg\n",
      "Processing file:  C:/Ambarish/shopppeedata2/0acce209d91fab17a4b81441dea41348.jpg\n",
      "Processing file:  C:/Ambarish/shopppeedata2/0acfa9e04854d818869cd3113420c4da.jpg\n",
      "Processing file:  C:/Ambarish/shopppeedata2/0ad1ac9fc5525030c504e8a132eca22d.jpg\n",
      "Processing file:  C:/Ambarish/shopppeedata2/0ad3676cb420ee2426612882a7d728e4.jpg\n",
      "Processing file:  C:/Ambarish/shopppeedata2/0ad3c18e23cb6ef1a2848fa658f08582.jpg\n",
      "Processing file:  C:/Ambarish/shopppeedata2/0ad45d90aaf7da34749c2d0ef88b5441.jpg\n",
      "Processing file:  C:/Ambarish/shopppeedata2/0ad4fb99cdee46fcf85128f68909c9f9.jpg\n",
      "Processing file:  C:/Ambarish/shopppeedata2/0ad5228fee2f95f68253719c32fc4f5b.jpg\n",
      "Processing file:  C:/Ambarish/shopppeedata2/0ad57247ad289917cdfce0b39173de03.jpg\n",
      "Processing file:  C:/Ambarish/shopppeedata2/0ad66c572a09c77699d3402f6544b35d.jpg\n",
      "Processing file:  C:/Ambarish/shopppeedata2/0ad952cbd44de55045daf42476091864.jpg\n",
      "Processing file:  C:/Ambarish/shopppeedata2/0adc5007ca3dd50999795d8f96206b0c.jpg\n",
      "Processing file:  C:/Ambarish/shopppeedata2/0ade5daad58a02913fbfa93aa5fb6e03.jpg\n",
      "Processing file:  C:/Ambarish/shopppeedata2/0adfa1b0bbfb23f7b6a1493b6ee40e72.jpg\n",
      "Processing file:  C:/Ambarish/shopppeedata2/0ae01a272a94a019759bc2a3b4813ee2.jpg\n",
      "Processing file:  C:/Ambarish/shopppeedata2/0ae15c6acc3b048d21a2151e45520c64.jpg\n",
      "Processing file:  C:/Ambarish/shopppeedata2/0ae1943234e87d017582edc329483abf.jpg\n",
      "Processing file:  C:/Ambarish/shopppeedata2/0ae2a9aa00c9327239f9216c060e085a.jpg\n",
      "Processing file:  C:/Ambarish/shopppeedata2/0ae4ecf766912bd5a9ecd564645cfb65.jpg\n",
      "Processing file:  C:/Ambarish/shopppeedata2/0ae76a6fcdc648f3c2329bd54c09cf15.jpg\n",
      "Processing file:  C:/Ambarish/shopppeedata2/0ae7fc81209d79eef2bf206b2b2a75cd.jpg\n",
      "Processing file:  C:/Ambarish/shopppeedata2/0ae83bece531fbba559866c50babecca.jpg\n",
      "Processing file:  C:/Ambarish/shopppeedata2/0aeb2ddef69689aa9917d67cd4940047.jpg\n",
      "Processing file:  C:/Ambarish/shopppeedata2/0aec0694b946b831e4e5909b620ee235.jpg\n",
      "Processing file:  C:/Ambarish/shopppeedata2/0aec32f9ca5bbb61cdad5a31ff904d11.jpg\n",
      "Processing file:  C:/Ambarish/shopppeedata2/0aec60ec4dcd75602f1f4d6c3cb09bc3.jpg\n",
      "Processing file:  C:/Ambarish/shopppeedata2/0af0dae4bdc6899e5c10a08e52d79f20.jpg\n",
      "Processing file:  C:/Ambarish/shopppeedata2/0af500d2a6ec53d31d41c9177ed4f588.jpg\n",
      "Processing file:  C:/Ambarish/shopppeedata2/0af8e0bcc29c0ff78edb95f534fa4b53.jpg\n",
      "Processing file:  C:/Ambarish/shopppeedata2/0af9dae1993a4c9eeff90bd73d84f718.jpg\n",
      "Processing file:  C:/Ambarish/shopppeedata2/0afac3eeb617a62073629325dae2dc24.jpg\n",
      "Processing file:  C:/Ambarish/shopppeedata2/0afaf8f54a9911359da8ed74a23a0107.jpg\n",
      "Processing file:  C:/Ambarish/shopppeedata2/0afcc8542dcb1c36d60bdbd2edcb3c7d.jpg\n",
      "Processing file:  C:/Ambarish/shopppeedata2/0affd362e655729bb255b911e31cc30b.jpg\n",
      "Processing file:  C:/Ambarish/shopppeedata2/0b02ff967e610fe89fa72dc777adc014.jpg\n",
      "Processing file:  C:/Ambarish/shopppeedata2/0b035453caae04dd6494f4cb366a31b4.jpg\n",
      "Processing file:  C:/Ambarish/shopppeedata2/0b04c55e642b52ce53d3098e42a3dba8.jpg\n",
      "Processing file:  C:/Ambarish/shopppeedata2/0b0712a9b8ddce1b014d253ad5c53ce3.jpg\n",
      "Processing file:  C:/Ambarish/shopppeedata2/0b080195c4843e966d7f952cd7767c1d.jpg\n",
      "Processing file:  C:/Ambarish/shopppeedata2/0b092371f3b7165c86374527436b33a4.jpg\n",
      "Processing file:  C:/Ambarish/shopppeedata2/0b0c5c0b6c73db06ccda0f317f423584.jpg\n",
      "Processing file:  C:/Ambarish/shopppeedata2/0b0d82f30a60bfa8bdfbe81eff50449c.jpg\n",
      "Processing file:  C:/Ambarish/shopppeedata2/0b1404a3718a4f6159e1192793f2f150.jpg\n",
      "Processing file:  C:/Ambarish/shopppeedata2/0b1585ac8948cbfebcef02ef9d6c8d73.jpg\n",
      "Processing file:  C:/Ambarish/shopppeedata2/0b159fbf4dbf6e9fb7837bac7d431d3d.jpg\n",
      "Processing file:  C:/Ambarish/shopppeedata2/0b18095b5e135243d78065f760dff070.jpg\n",
      "Processing file:  C:/Ambarish/shopppeedata2/0b1a54d60d1a8bb319ae549225637bee.jpg\n",
      "Processing file:  C:/Ambarish/shopppeedata2/0b1b099b2022e47b3dc2e41ad1b52688.jpg\n",
      "Processing file:  C:/Ambarish/shopppeedata2/0b1c8e5182f1c66f691a87391c25de74.jpg\n",
      "Processing file:  C:/Ambarish/shopppeedata2/0b22d6ddb49f7776af4be53110fdf895.jpg\n",
      "Processing file:  C:/Ambarish/shopppeedata2/0b27c9ffcce77341951d6bec6f71524a.jpg\n",
      "Processing file:  C:/Ambarish/shopppeedata2/0b28d64693a63a0d7ee7281e61a755c7.jpg\n",
      "Processing file:  C:/Ambarish/shopppeedata2/0b2aa8da3e56c316de348221421cf7c4.jpg\n",
      "Processing file:  C:/Ambarish/shopppeedata2/0b2c815972b87908af3652d2986a55a7.jpg\n",
      "Processing file:  C:/Ambarish/shopppeedata2/0b2e63daf69bf93ba80f5fd826571b81.jpg\n",
      "Processing file:  C:/Ambarish/shopppeedata2/0b2eb6a492b990c9ae5e71f831a93c01.jpg\n",
      "Processing file:  C:/Ambarish/shopppeedata2/0b2ec66d149785977b7ff4aa3f084adf.jpg\n",
      "Processing file:  C:/Ambarish/shopppeedata2/0b30a8fd90f27450b48cddf00f1f91d4.jpg\n",
      "Processing file:  C:/Ambarish/shopppeedata2/0b34c4c9ac9441e87ac38c61671db1d2.jpg\n",
      "Processing file:  C:/Ambarish/shopppeedata2/0b36e555fcecb828d05d6dedc14db00e.jpg\n",
      "Processing file:  C:/Ambarish/shopppeedata2/0b395e69924ffcc20399a3d2727d38af.jpg\n",
      "Processing file:  C:/Ambarish/shopppeedata2/0b3a77b6745340fe77795585ade00c27.jpg\n",
      "Processing file:  C:/Ambarish/shopppeedata2/0b40dd7bbe4d81719f719f4ac13528de.jpg\n",
      "Processing file:  C:/Ambarish/shopppeedata2/0b42511572173f0144e5b32c804081f0.jpg\n",
      "Processing file:  C:/Ambarish/shopppeedata2/0b42a36bb439c17d639c81908857e4ad.jpg\n",
      "Processing file:  C:/Ambarish/shopppeedata2/0b42cb61c5c72ec37f29469d3e209ddc.jpg\n",
      "Processing file:  C:/Ambarish/shopppeedata2/0b438a02fc70c3a002f6af96a96370ad.jpg\n",
      "Processing file:  C:/Ambarish/shopppeedata2/0b44d095f9357b1c0fd3e61d5fea66ce.jpg\n",
      "Processing file:  C:/Ambarish/shopppeedata2/0b4a8ad857b60059f196b7a3522b22ab.jpg\n",
      "Processing file:  C:/Ambarish/shopppeedata2/0b4b35872cf709a31a56d9def6855c6d.jpg\n",
      "Processing file:  C:/Ambarish/shopppeedata2/0b4d3e468525cabc9203cd8f1aa9adae.jpg\n",
      "Processing file:  C:/Ambarish/shopppeedata2/0b4eefc65a034c7f2a2f760a5e61be56.jpg\n",
      "Processing file:  C:/Ambarish/shopppeedata2/0b52d85bbd16d57de289b01b5535d81a.jpg\n",
      "Processing file:  C:/Ambarish/shopppeedata2/0b548e26de98afdb317064b2a14d3217.jpg\n",
      "Processing file:  C:/Ambarish/shopppeedata2/0b552c8ee944d8a7ad9c35826e090ee1.jpg\n",
      "Processing file:  C:/Ambarish/shopppeedata2/0b56448f1c918720ed858f064eb41cac.jpg\n",
      "Processing file:  C:/Ambarish/shopppeedata2/0b56e2772f8be53ae6dcdc5cb8ab78df.jpg\n",
      "Processing file:  C:/Ambarish/shopppeedata2/0b586674408e39f5eba259023e2b48ab.jpg\n",
      "Processing file:  C:/Ambarish/shopppeedata2/0b5b077ca467e36103066d4583b310f0.jpg\n",
      "Processing file:  C:/Ambarish/shopppeedata2/0b5b1c38212ff34a62f89094b79e43be.jpg\n",
      "Processing file:  C:/Ambarish/shopppeedata2/0b5b2b2b3f84721140a7e18c2e43a4ff.jpg\n",
      "Processing file:  C:/Ambarish/shopppeedata2/0b5bb84c1800516e5c4b78804e563602.jpg\n",
      "Processing file:  C:/Ambarish/shopppeedata2/0b5cd73c8d96abf814e88ee2957b975f.jpg\n",
      "Processing file:  C:/Ambarish/shopppeedata2/0b614ca09afda7e172a9b05ecd02dc7a.jpg\n",
      "Processing file:  C:/Ambarish/shopppeedata2/0b61b0a426dbff735914ff0c9ee5e13a.jpg\n",
      "Processing file:  C:/Ambarish/shopppeedata2/0b631bec4e8af57763f15fbfd2fa1368.jpg\n",
      "Processing file:  C:/Ambarish/shopppeedata2/0b6414c7a3709d702a7ad1fb518fe25c.jpg\n",
      "Processing file:  C:/Ambarish/shopppeedata2/0b663da3e8d91f67e397d565350f1915.jpg\n",
      "Processing file:  C:/Ambarish/shopppeedata2/0b6a2fd7f4c3a6a4c292150b629c7999.jpg\n",
      "Processing file:  C:/Ambarish/shopppeedata2/0b6b01469ab077ddd07535c98b840ef8.jpg\n",
      "Processing file:  C:/Ambarish/shopppeedata2/0b71979d9507930f4890e4c7bc3325e1.jpg\n",
      "Processing file:  C:/Ambarish/shopppeedata2/0b72276d182da0af809e23a532f5f4ce.jpg\n",
      "Processing file:  C:/Ambarish/shopppeedata2/0b7375ee8bc4ee145538842cc278a4b3.jpg\n",
      "Processing file:  C:/Ambarish/shopppeedata2/0b760b1382cefc938a5275bec4b9c8f2.jpg\n",
      "Processing file:  C:/Ambarish/shopppeedata2/0b762b0d8340eaafe12149af59c2a6bb.jpg\n",
      "Processing file:  C:/Ambarish/shopppeedata2/0b785932e9dbc1602216cfef709d1879.jpg\n",
      "Processing file:  C:/Ambarish/shopppeedata2/0b7a4884bc0e37db50dfabc043b18f2f.jpg\n",
      "Processing file:  C:/Ambarish/shopppeedata2/0b7c9c7b0c1723f23ba2cf1d6a6e2bec.jpg\n",
      "Processing file:  C:/Ambarish/shopppeedata2/0b7d1a4926a5bb9068a07d7b975d8493.jpg\n",
      "Processing file:  C:/Ambarish/shopppeedata2/0b817a466aaa7e61aad9f493b5c1f6ac.jpg\n",
      "Processing file:  C:/Ambarish/shopppeedata2/0b8207bd214999837bb51f5613bf65dc.jpg\n",
      "Processing file:  C:/Ambarish/shopppeedata2/0b8293ee7f77fad054780e4341c0f63d.jpg\n",
      "Processing file:  C:/Ambarish/shopppeedata2/0b83984e3a79740aa52c0c07560faf9b.jpg\n",
      "Processing file:  C:/Ambarish/shopppeedata2/0b8454be81c59f57c836dbcec2f6f6f5.jpg\n",
      "Processing file:  C:/Ambarish/shopppeedata2/0b84be88f7b7bea4a3ff950f6c1f7cb4.jpg\n",
      "Processing file:  C:/Ambarish/shopppeedata2/0b862b6d8a2778e181e62d78a9ad0eef.jpg\n",
      "Processing file:  C:/Ambarish/shopppeedata2/0b869150bee3a0ca7916e95481c8c28e.jpg\n",
      "Processing file:  C:/Ambarish/shopppeedata2/0b88c81f5f68143596b83d44be09ebfe.jpg\n",
      "Processing file:  C:/Ambarish/shopppeedata2/0b8982b881a1a98ddd7f4ab544abb696.jpg\n",
      "Processing file:  C:/Ambarish/shopppeedata2/0b8a47268fb6ee5c62ba401b9621aed2.jpg\n",
      "Processing file:  C:/Ambarish/shopppeedata2/0b8aa0bff7b21d0cf6d5ea6dced283d3.jpg\n",
      "Processing file:  C:/Ambarish/shopppeedata2/0b8cc58408268b8cd07f437a51e7b1cb.jpg\n",
      "Processing file:  C:/Ambarish/shopppeedata2/0b9234648e8d23ac1468674227fec330.jpg\n",
      "Processing file:  C:/Ambarish/shopppeedata2/0b92cb97257d3092aa308e7c8f089c38.jpg\n",
      "Processing file:  C:/Ambarish/shopppeedata2/0b934e7ac793cbed0ee980450db48980.jpg\n",
      "Processing file:  C:/Ambarish/shopppeedata2/0b95f80b1234b542739c2c6c71a8e0cd.jpg\n",
      "Processing file:  C:/Ambarish/shopppeedata2/0b9747f0b01793ae8262721454e0094f.jpg\n",
      "Processing file:  C:/Ambarish/shopppeedata2/0b981904e5ad6db7bfaa78c39e7d5028.jpg\n",
      "Processing file:  C:/Ambarish/shopppeedata2/0b987c353ab67f0141746b5a7a85e388.jpg\n",
      "Processing file:  C:/Ambarish/shopppeedata2/0ba249cf2b445473412a1b017793ccad.jpg\n",
      "Processing file:  C:/Ambarish/shopppeedata2/0ba93301197280e575eaa67f7c5a5d4e.jpg\n",
      "Processing file:  C:/Ambarish/shopppeedata2/0baac76aed0f671265cdf19d0c02b196.jpg\n",
      "Processing file:  C:/Ambarish/shopppeedata2/0baac87a6caefaec5536ec082b847348.jpg\n",
      "Processing file:  C:/Ambarish/shopppeedata2/0badbea4265bfab5a2fc4ad6b17d2593.jpg\n",
      "Processing file:  C:/Ambarish/shopppeedata2/0bb013ba24a21a4d392b5790c8db3dbc.jpg\n",
      "Processing file:  C:/Ambarish/shopppeedata2/0bb4065e13f9c2e9052d241946373dce.jpg\n",
      "Processing file:  C:/Ambarish/shopppeedata2/0bb47e2fc56c35f56f56ac2f7dc24bda.jpg\n",
      "Processing file:  C:/Ambarish/shopppeedata2/0bb5616e93a3accccd811ec4a6f3ce2e.jpg\n",
      "Processing file:  C:/Ambarish/shopppeedata2/0bb5be97ac7e807a1ef4bfc74a1b58df.jpg\n",
      "Processing file:  C:/Ambarish/shopppeedata2/0bb735ebc2276834c8229a37b9dc2a59.jpg\n",
      "Processing file:  C:/Ambarish/shopppeedata2/0bb839eeb70ca5efc87692cbe12a6a2a.jpg\n",
      "Processing file:  C:/Ambarish/shopppeedata2/0bbcd0670e9989be9ba7ec051ca8ad1e.jpg\n",
      "Processing file:  C:/Ambarish/shopppeedata2/0bbd2846f79531d35bb1b841eda76180.jpg\n",
      "Processing file:  C:/Ambarish/shopppeedata2/0bbdb5a4b8d67c74600781761006dd75.jpg\n",
      "Processing file:  C:/Ambarish/shopppeedata2/0bbf44cd5adf25388cb1e3559a89a51e.jpg\n",
      "Processing file:  C:/Ambarish/shopppeedata2/0bbf53b74be4db2681d6363fd1c3cc4d.jpg\n",
      "Processing file:  C:/Ambarish/shopppeedata2/0bbfb82983437d6d8be4c8b42e4a1301.jpg\n",
      "Processing file:  C:/Ambarish/shopppeedata2/0bbffc9ac348c72095d78d61685d1f18.jpg\n",
      "Processing file:  C:/Ambarish/shopppeedata2/0bc14294f079e71a5df50f6b075af99c.jpg\n",
      "Processing file:  C:/Ambarish/shopppeedata2/0bc26fbca1efb42039bfcb96d1212e30.jpg\n",
      "Processing file:  C:/Ambarish/shopppeedata2/0bc329d2223d5358e7cf8b445c78872e.jpg\n",
      "Processing file:  C:/Ambarish/shopppeedata2/0bc37b4869ff1b8506c8679f8fc75112.jpg\n",
      "Processing file:  C:/Ambarish/shopppeedata2/0bc4f599a135d6544bb48a803b93ce76.jpg\n",
      "Processing file:  C:/Ambarish/shopppeedata2/0bc9b6c9a52eb9cea83899cd438cb48e.jpg\n",
      "Processing file:  C:/Ambarish/shopppeedata2/0bcb7a0cc6630d137e38db84b043980a.jpg\n",
      "Processing file:  C:/Ambarish/shopppeedata2/0bcd1e7c12f56a85e29484a7b04ae718.jpg\n",
      "Processing file:  C:/Ambarish/shopppeedata2/0bce568bbac7c93a4cc9ffb77bf302fc.jpg\n",
      "Processing file:  C:/Ambarish/shopppeedata2/0bcf9cc2c127a7b778272635e909f56d.jpg\n",
      "Processing file:  C:/Ambarish/shopppeedata2/0bcfcf52f83022d1754497d7dd1a9442.jpg\n",
      "Processing file:  C:/Ambarish/shopppeedata2/0bcfd7211e477c91f883aab3bc57fc5c.jpg\n",
      "Processing file:  C:/Ambarish/shopppeedata2/0bd113cd985eb73b57cde14fa4b8707d.jpg\n",
      "Processing file:  C:/Ambarish/shopppeedata2/0bd37d2b127fafbfbefa6b4d22e256c8.jpg\n",
      "Processing file:  C:/Ambarish/shopppeedata2/0bd512e2000dffadb9d87b37bd2ee5ed.jpg\n",
      "Processing file:  C:/Ambarish/shopppeedata2/0bd5b842cf66179ba0083f6d273fd061.jpg\n",
      "Processing file:  C:/Ambarish/shopppeedata2/0bd6fd56feaf10dc739146e65ee95347.jpg\n",
      "Processing file:  C:/Ambarish/shopppeedata2/0bd762db77239d1f3f99ce3c1bf6bcb7.jpg\n",
      "Processing file:  C:/Ambarish/shopppeedata2/0bd991eed669ae1207f8e7b808e078c7.jpg\n",
      "Processing file:  C:/Ambarish/shopppeedata2/0bd9ebd3a14a6e12285ec53fd8ff9257.jpg\n",
      "Processing file:  C:/Ambarish/shopppeedata2/0bde9e6c17374672fa8ea42c071d5367.jpg\n",
      "Processing file:  C:/Ambarish/shopppeedata2/0bdee588aa853dcdfe81950c01b9e24e.jpg\n",
      "Processing file:  C:/Ambarish/shopppeedata2/0be2f38a2ca491ffcb2d3af349f016db.jpg\n",
      "Processing file:  C:/Ambarish/shopppeedata2/0be32b7445f6e639e90892a3d4ae8e1f.jpg\n",
      "Processing file:  C:/Ambarish/shopppeedata2/0be368f2a859d04773e900ddff36de09.jpg\n",
      "Processing file:  C:/Ambarish/shopppeedata2/0be4b621e2353087f892da488484e7a0.jpg\n",
      "Processing file:  C:/Ambarish/shopppeedata2/0be8b2a7de5353b57a9758d45560cd8a.jpg\n",
      "Processing file:  C:/Ambarish/shopppeedata2/0be8d1eda09e585f94a30a9c53295003.jpg\n",
      "Processing file:  C:/Ambarish/shopppeedata2/0be9afdefdae230806fa16a3609b149c.jpg\n",
      "Processing file:  C:/Ambarish/shopppeedata2/0bea7ed3f206cd5f44bb10e794d53c11.jpg\n",
      "Processing file:  C:/Ambarish/shopppeedata2/0bebd4467c078f785acfad20952caf2f.jpg\n",
      "Processing file:  C:/Ambarish/shopppeedata2/0bedb0b7f22194f100801329a63c2f6a.jpg\n",
      "Processing file:  C:/Ambarish/shopppeedata2/0beef241633326e0bbcc986ab6963efb.jpg\n",
      "Processing file:  C:/Ambarish/shopppeedata2/0befb43c7eb5487ba9c8d97d7c4bc12a.jpg\n",
      "Processing file:  C:/Ambarish/shopppeedata2/0bf095428a9fba0271091dda2ceccbf3.jpg\n",
      "Processing file:  C:/Ambarish/shopppeedata2/0bf2121197fc252174ee984ae906d3e3.jpg\n",
      "Processing file:  C:/Ambarish/shopppeedata2/0bf37b80d89a79b33f306bc4750577d4.jpg\n",
      "Processing file:  C:/Ambarish/shopppeedata2/0bf6692b278bd517d7bd17dfcc541a88.jpg\n",
      "Processing file:  C:/Ambarish/shopppeedata2/0bf6caf264d85fa0248202ca6c4f1772.jpg\n",
      "Processing file:  C:/Ambarish/shopppeedata2/0bf99cfa13440d8ba12e8f8c4870a74a.jpg\n",
      "Processing file:  C:/Ambarish/shopppeedata2/0bfbda102009445ecfa7d516b14c31d8.jpg\n",
      "Processing file:  C:/Ambarish/shopppeedata2/0bffa73b1faa6c2fe796cd0375693318.jpg\n",
      "Processing file:  C:/Ambarish/shopppeedata2/0c00a273e976cfe488a1d747fbc84908.jpg\n",
      "Processing file:  C:/Ambarish/shopppeedata2/0c01aedd0b6cf9a22962e3ee99735562.jpg\n",
      "Processing file:  C:/Ambarish/shopppeedata2/0c05db0ade0f9a41c796c2b070d0345c.jpg\n",
      "Processing file:  C:/Ambarish/shopppeedata2/0c09976f6522df97baf6a9e79c452f47.jpg\n",
      "Processing file:  C:/Ambarish/shopppeedata2/0c0f97f726132be83c7b84e0ca9e604e.jpg\n",
      "Processing file:  C:/Ambarish/shopppeedata2/0c14808750596f12bab420cf009dbfb3.jpg\n",
      "Processing file:  C:/Ambarish/shopppeedata2/0c15defea30c01fcb006a2cab28001bf.jpg\n",
      "Processing file:  C:/Ambarish/shopppeedata2/0c16ff9315d70e320b572ef1d4b82ffe.jpg\n",
      "Processing file:  C:/Ambarish/shopppeedata2/0c18bf3e41b2f0ec907518ffe6ddb939.jpg\n",
      "Processing file:  C:/Ambarish/shopppeedata2/0c1c20d09bf140775279b1a6cde01488.jpg\n",
      "Processing file:  C:/Ambarish/shopppeedata2/0c1c8a730dac2f2a9f69832337ecdbcb.jpg\n",
      "Processing file:  C:/Ambarish/shopppeedata2/0c1d6eac88ca668b0197ac423ac2dfed.jpg\n",
      "Processing file:  C:/Ambarish/shopppeedata2/0c1da0c6bab51f1fe7df75ef060fc77d.jpg\n",
      "Processing file:  C:/Ambarish/shopppeedata2/0c1dfedf9d3df16b7a8abfdebee33e73.jpg\n",
      "Processing file:  C:/Ambarish/shopppeedata2/0c28e734d52dc2519a458df16d02f4ef.jpg\n",
      "Processing file:  C:/Ambarish/shopppeedata2/0c2d6ccf4d03c19491c823100bae4e9c.jpg\n",
      "Processing file:  C:/Ambarish/shopppeedata2/0c2eac17c4a727c251d0487b67cc5c9f.jpg\n",
      "Processing file:  C:/Ambarish/shopppeedata2/0c2efac2e9392243c1bf5675d264d022.jpg\n",
      "Processing file:  C:/Ambarish/shopppeedata2/0c2f3e690c2aae637f35540225ae13f4.jpg\n",
      "Processing file:  C:/Ambarish/shopppeedata2/0c30d3369a8979090b18ffe5b2eb6a9a.jpg\n",
      "Processing file:  C:/Ambarish/shopppeedata2/0c31be592bae56536618729741da686a.jpg\n",
      "Processing file:  C:/Ambarish/shopppeedata2/0c3375a9db9a95a6a22964f0b3ad4c22.jpg\n",
      "Processing file:  C:/Ambarish/shopppeedata2/0c345f7affbb9505daa17d286353226e.jpg\n",
      "Processing file:  C:/Ambarish/shopppeedata2/0c34a2125576d6a664b9c4430c50b762.jpg\n",
      "Processing file:  C:/Ambarish/shopppeedata2/0c35f41ee7013e93492addccc5e36b73.jpg\n",
      "Processing file:  C:/Ambarish/shopppeedata2/0c3b911bd8c9d2061fed98ff153a19f1.jpg\n",
      "Processing file:  C:/Ambarish/shopppeedata2/0c3c9ed48d34592f43c695c0e05b90fb.jpg\n",
      "Processing file:  C:/Ambarish/shopppeedata2/0c40a5232db6a511f1ba365bdc61ad85.jpg\n",
      "Processing file:  C:/Ambarish/shopppeedata2/0c42d562786706fd3926414d5d31d04a.jpg\n",
      "Processing file:  C:/Ambarish/shopppeedata2/0c437d6b73cf107e0a16c25c754037fc.jpg\n",
      "Processing file:  C:/Ambarish/shopppeedata2/0c4a8dae4836829f538f7a431f4d8ac9.jpg\n",
      "Processing file:  C:/Ambarish/shopppeedata2/0c4c3e714718d8fff920bb94b304893e.jpg\n",
      "Processing file:  C:/Ambarish/shopppeedata2/0c4d36922e3907cd4ece22654fd998b9.jpg\n",
      "Processing file:  C:/Ambarish/shopppeedata2/0c4f403cebc531e9155a918922da8470.jpg\n",
      "Processing file:  C:/Ambarish/shopppeedata2/0c54aff9c2ed1e0b3d80f31f3de2b239.jpg\n",
      "Processing file:  C:/Ambarish/shopppeedata2/0c5925bfdb4d466895a90ddc79bf3137.jpg\n",
      "Processing file:  C:/Ambarish/shopppeedata2/0c5ae9edb42acbad8f69085cd6c91c9d.jpg\n",
      "Processing file:  C:/Ambarish/shopppeedata2/0c5aeb7dd48a110b822c4286325183b2.jpg\n",
      "Processing file:  C:/Ambarish/shopppeedata2/0c5c172fde290e5808c74f9a969a51ec.jpg\n",
      "Processing file:  C:/Ambarish/shopppeedata2/0c5c8e7c841d66e5f548742263d108b8.jpg\n",
      "Processing file:  C:/Ambarish/shopppeedata2/0c5faab9d2a60e13a83659553da35e2b.jpg\n",
      "Processing file:  C:/Ambarish/shopppeedata2/0c5ffea37e1294a1143854a5fed5d5fe.jpg\n",
      "Processing file:  C:/Ambarish/shopppeedata2/0c61e12f72755b452c3ddd1c92803944.jpg\n",
      "Processing file:  C:/Ambarish/shopppeedata2/0c6381bc1e218c4a0c05fd10c7a886f1.jpg\n",
      "Processing file:  C:/Ambarish/shopppeedata2/0c644802555bea40fe87cd31f0675b46.jpg\n",
      "Processing file:  C:/Ambarish/shopppeedata2/0c66999cb2de03cdcf3f9f4a449517b7.jpg\n",
      "Processing file:  C:/Ambarish/shopppeedata2/0c677e4566f3162413912d14726b5e50.jpg\n",
      "Processing file:  C:/Ambarish/shopppeedata2/0c69107892505a06710283898b514444.jpg\n",
      "Processing file:  C:/Ambarish/shopppeedata2/0c6bae4e5b5fbdc5dbd420ec020e6bb6.jpg\n",
      "Processing file:  C:/Ambarish/shopppeedata2/0c7448c83d823af78dfb7bdbdbd0a1cf.jpg\n",
      "Processing file:  C:/Ambarish/shopppeedata2/0c748f99d21d333a8e18759f55f7a750.jpg\n",
      "Processing file:  C:/Ambarish/shopppeedata2/0c77061c1f0c0fc9daadf4bcac16b3d2.jpg\n",
      "Processing file:  C:/Ambarish/shopppeedata2/0c78af85f85c2ffe498495cc7b4fc1e9.jpg\n",
      "Processing file:  C:/Ambarish/shopppeedata2/0c7a7bd9aee78cf57dc4c696f5082893.jpg\n",
      "Processing file:  C:/Ambarish/shopppeedata2/0c7deb52f01912e32fff6fa5dfa74296.jpg\n",
      "Processing file:  C:/Ambarish/shopppeedata2/0c7e3b17589af7dd503bd425a205ccc1.jpg\n",
      "Processing file:  C:/Ambarish/shopppeedata2/0c7f2f4fabe599e4d03835aaf6105170.jpg\n",
      "Processing file:  C:/Ambarish/shopppeedata2/0c803bbcb44ad78e255bbf179715c63c.jpg\n",
      "Processing file:  C:/Ambarish/shopppeedata2/0c8108a1cc6e5d6bfbf42abf488e1952.jpg\n",
      "Processing file:  C:/Ambarish/shopppeedata2/0c820c826c416cb1c8b330e4f4c80747.jpg\n",
      "Processing file:  C:/Ambarish/shopppeedata2/0c837c7475fbdd9baa9054748bc3bd49.jpg\n",
      "Processing file:  C:/Ambarish/shopppeedata2/0c85a6d2ca23a35d1181be39565a0dba.jpg\n",
      "Processing file:  C:/Ambarish/shopppeedata2/0c877f41c98957003774aa0878f7d6ee.jpg\n",
      "Processing file:  C:/Ambarish/shopppeedata2/0c881ebfa175a01b5bcac44b1105b833.jpg\n",
      "Processing file:  C:/Ambarish/shopppeedata2/0c8833ca13a99800f5d06c4973e6e054.jpg\n",
      "Processing file:  C:/Ambarish/shopppeedata2/0c8b80a83f4c0d83e49afeab88aba3e4.jpg\n",
      "Processing file:  C:/Ambarish/shopppeedata2/0c8c0346bb86455a6be5534eb941ed39.jpg\n",
      "Processing file:  C:/Ambarish/shopppeedata2/0c8de4d6b435d40f56a10746a084f3f9.jpg\n",
      "Processing file:  C:/Ambarish/shopppeedata2/0c90983d4a5cefccfdf210e66ab64bc6.jpg\n",
      "Processing file:  C:/Ambarish/shopppeedata2/0c94c5c6ca6a01b1ba24337c90bd0f1c.jpg\n",
      "Processing file:  C:/Ambarish/shopppeedata2/0c95afcc18113191e48374478e9cea43.jpg\n",
      "Processing file:  C:/Ambarish/shopppeedata2/0c95c6812ee88f6aef5d75b23ad8ea8a.jpg\n",
      "Processing file:  C:/Ambarish/shopppeedata2/0c975829058104318275d7ae6d9e07db.jpg\n",
      "Processing file:  C:/Ambarish/shopppeedata2/0c982e32ce78b30f200edd9fe986cbbe.jpg\n",
      "Processing file:  C:/Ambarish/shopppeedata2/0c9bf6d96e491293bec666514c7ab41a.jpg\n",
      "Processing file:  C:/Ambarish/shopppeedata2/0c9c844a06eff2b8700abe82ac71c9b4.jpg\n",
      "Processing file:  C:/Ambarish/shopppeedata2/0c9e997c968bd84f993562c4ebb65bb2.jpg\n",
      "Processing file:  C:/Ambarish/shopppeedata2/0ca20ee47555e36063e896d82c52d1ef.jpg\n",
      "Processing file:  C:/Ambarish/shopppeedata2/0ca2aa57bf9761e63878da133c1417be.jpg\n",
      "Processing file:  C:/Ambarish/shopppeedata2/0ca2b221a9255f1e86e596c802a32ce1.jpg\n",
      "Processing file:  C:/Ambarish/shopppeedata2/0ca36f3fdb61c3a2846124c26d19bbea.jpg\n",
      "Processing file:  C:/Ambarish/shopppeedata2/0ca8ded367fc2c5dd1a392e5d57d5482.jpg\n",
      "Processing file:  C:/Ambarish/shopppeedata2/0caddb32ef155abfd28879fc01e3ade5.jpg\n",
      "Processing file:  C:/Ambarish/shopppeedata2/0caecaa2f53031ddbe99d2b5cd81b528.jpg\n",
      "Processing file:  C:/Ambarish/shopppeedata2/0caf1e99d89dc89d5b23e3c4ef9bf592.jpg\n",
      "Processing file:  C:/Ambarish/shopppeedata2/0cb2fd74885036cfaaf7139ba63d2002.jpg\n",
      "Processing file:  C:/Ambarish/shopppeedata2/0cb3efecec7c834ea3078b0feb17b6ef.jpg\n",
      "Processing file:  C:/Ambarish/shopppeedata2/0cba481a67e404686456c6aadb4aa9b8.jpg\n",
      "Processing file:  C:/Ambarish/shopppeedata2/0cbc26fe84291d3f49d86dc397eecbfa.jpg\n",
      "Processing file:  C:/Ambarish/shopppeedata2/0cbc326a793fc73dbb33e25c995c26cb.jpg\n",
      "Processing file:  C:/Ambarish/shopppeedata2/0cbd0a57011b1205279c0c89813f6eab.jpg\n",
      "Processing file:  C:/Ambarish/shopppeedata2/0cbe71cfc224e4ace275c044725c4136.jpg\n",
      "Processing file:  C:/Ambarish/shopppeedata2/0cc1ac6b06ea13e1becaad3eafc69e1c.jpg\n",
      "Processing file:  C:/Ambarish/shopppeedata2/0cc538684493092ff08559ec1480f492.jpg\n",
      "Processing file:  C:/Ambarish/shopppeedata2/0cc74dea90d1c8dd8346f5e565192492.jpg\n",
      "Processing file:  C:/Ambarish/shopppeedata2/0cc7e0834e82bf1dc9401dae7a035cfe.jpg\n",
      "Processing file:  C:/Ambarish/shopppeedata2/0cc99285f208cd25d708e6576030ca72.jpg\n",
      "Processing file:  C:/Ambarish/shopppeedata2/0cca4afba97e106abd0843ce72881ca4.jpg\n",
      "Processing file:  C:/Ambarish/shopppeedata2/0cd08019f6b591f2c5eff3ee2a9be858.jpg\n",
      "Processing file:  C:/Ambarish/shopppeedata2/0cd275825c85632f9a3fad039740e08b.jpg\n",
      "Processing file:  C:/Ambarish/shopppeedata2/0cd49cd97ca2295c195ff106f0a84fec.jpg\n",
      "Processing file:  C:/Ambarish/shopppeedata2/0cd508fbe111bf3aeb0033a1dfc1728c.jpg\n",
      "Processing file:  C:/Ambarish/shopppeedata2/0cd6212516d4f1cfe45f0aa532fd748d.jpg\n",
      "Processing file:  C:/Ambarish/shopppeedata2/0cd9980221b7336e2f578a676e7bbbda.jpg\n",
      "Processing file:  C:/Ambarish/shopppeedata2/0cdae195eea0770a9e58b3430b91da42.jpg\n",
      "Processing file:  C:/Ambarish/shopppeedata2/0cde1584fe4f29ab9122793af445c8b2.jpg\n",
      "Processing file:  C:/Ambarish/shopppeedata2/0cde68fda09efde12b05490653ae00fa.jpg\n",
      "Processing file:  C:/Ambarish/shopppeedata2/0cdeeb665f00ce6b34f2de2c9c5ecc76.jpg\n",
      "Processing file:  C:/Ambarish/shopppeedata2/0cdf04cbbe68fc001ddb551e14881533.jpg\n",
      "Processing file:  C:/Ambarish/shopppeedata2/0cdf53df92da7f954f0f3b08df9bfc14.jpg\n",
      "Processing file:  C:/Ambarish/shopppeedata2/0ce3db07a87399108e5c468ec0590b73.jpg\n",
      "Processing file:  C:/Ambarish/shopppeedata2/0ce4978b4918d714143537373a43c945.jpg\n",
      "Processing file:  C:/Ambarish/shopppeedata2/0ce5becdf72a91efd6e448c89cd419d6.jpg\n",
      "Processing file:  C:/Ambarish/shopppeedata2/0ce6cc4117780578146cb2e4195181df.jpg\n",
      "Processing file:  C:/Ambarish/shopppeedata2/0ceb14253f65ce8ad52d9ffa5ff20e93.jpg\n",
      "Processing file:  C:/Ambarish/shopppeedata2/0ceb9ba195eb7ca96c11cbe391a79f7f.jpg\n",
      "Processing file:  C:/Ambarish/shopppeedata2/0ceccd0dbe74b973672948acc7e8fb9f.jpg\n",
      "Processing file:  C:/Ambarish/shopppeedata2/0cecd493ec59625b3ea3a7e491ba3489.jpg\n",
      "Processing file:  C:/Ambarish/shopppeedata2/0ced84fbb64a7d5f755e561b60c62523.jpg\n",
      "Processing file:  C:/Ambarish/shopppeedata2/0cef3de8600dc593148c89c61f437fcf.jpg\n",
      "Processing file:  C:/Ambarish/shopppeedata2/0cf029766edcf87c466b49d03e257ee6.jpg\n",
      "Processing file:  C:/Ambarish/shopppeedata2/0cf0e4b6501eca7134b90e171da7c6c0.jpg\n",
      "Processing file:  C:/Ambarish/shopppeedata2/0cf13d5783be79f5a3663951d9d40dec.jpg\n",
      "Processing file:  C:/Ambarish/shopppeedata2/0cf14f1eee5305e57918ceac9ec625e9.jpg\n",
      "Processing file:  C:/Ambarish/shopppeedata2/0cf24fd0d71d43d95a7a3600709d0d79.jpg\n",
      "Processing file:  C:/Ambarish/shopppeedata2/0cf682dbeb7b777088f528367c0d7e94.jpg\n",
      "Processing file:  C:/Ambarish/shopppeedata2/0cf8c03b7b5eac48b24c99d60f6cae0b.jpg\n",
      "Processing file:  C:/Ambarish/shopppeedata2/0cf8cd77025624f680786b29eee460b7.jpg\n",
      "Processing file:  C:/Ambarish/shopppeedata2/0cfadf2a324c09d97ab42c9874d80dfa.jpg\n",
      "Processing file:  C:/Ambarish/shopppeedata2/0cfb178430ca0a093cee020b59eae427.jpg\n",
      "Processing file:  C:/Ambarish/shopppeedata2/0cfbc0c5fd626dc38256357192fb51ce.jpg\n",
      "Processing file:  C:/Ambarish/shopppeedata2/0cfbfae6a018f8b97c10f0fb7190f74b.jpg\n",
      "Processing file:  C:/Ambarish/shopppeedata2/0cfcc1f359a6da5901302c0f1c236bc3.jpg\n",
      "Processing file:  C:/Ambarish/shopppeedata2/0cfd39c7faa04b09602998294048262e.jpg\n",
      "Processing file:  C:/Ambarish/shopppeedata2/0cfd7328528ff9a91a4545189a5a3c2d.jpg\n",
      "Processing file:  C:/Ambarish/shopppeedata2/0cfe50f0694469e996f9b49e907648f8.jpg\n",
      "Processing file:  C:/Ambarish/shopppeedata2/0d002a70fa83c7f735415a67e852dce5.jpg\n",
      "Processing file:  C:/Ambarish/shopppeedata2/0d0b82d9f7b73a640f2ad2136152a4ff.jpg\n",
      "Processing file:  C:/Ambarish/shopppeedata2/0d0ebbc27727d2749de77cb898ea0a31.jpg\n",
      "Processing file:  C:/Ambarish/shopppeedata2/0d122c3e8251d8e230b931fe33c7cd4b.jpg\n",
      "Processing file:  C:/Ambarish/shopppeedata2/0d1b04bf46d806f9349b8264d5354854.jpg\n",
      "Processing file:  C:/Ambarish/shopppeedata2/0d1c2ef01101c5935c85bca9fc282a4a.jpg\n",
      "Processing file:  C:/Ambarish/shopppeedata2/0d21ff3e3b9ef90e87fc265c66090548.jpg\n",
      "Processing file:  C:/Ambarish/shopppeedata2/0d22d0ad1a2e75c2975cbd41637bc2d3.jpg\n",
      "Processing file:  C:/Ambarish/shopppeedata2/0d25b20430745e550649e5ec1213b910.jpg\n",
      "Processing file:  C:/Ambarish/shopppeedata2/0d282f9acfda90977384c131c84d6628.jpg\n",
      "Processing file:  C:/Ambarish/shopppeedata2/0d294e60a76022e407f8cc353a487fbb.jpg\n",
      "Processing file:  C:/Ambarish/shopppeedata2/0d2c73f77f7e0ab726b7ae9b11f27b39.jpg\n",
      "Processing file:  C:/Ambarish/shopppeedata2/0d2f92a6593fbd0d11ad5f4e36f71b13.jpg\n",
      "Processing file:  C:/Ambarish/shopppeedata2/0d30ee762a858025fcf535d51a88c249.jpg\n",
      "Processing file:  C:/Ambarish/shopppeedata2/0d385d16b3226d431f85426aeb70928f.jpg\n",
      "Processing file:  C:/Ambarish/shopppeedata2/0d3a50552225da9e68b81b714d5f9d65.jpg\n",
      "Processing file:  C:/Ambarish/shopppeedata2/0d3aca37e43bc8cdbcc1bf77c6c9b8e7.jpg\n",
      "Processing file:  C:/Ambarish/shopppeedata2/0d3f7ce032045c711573e57fe25267a3.jpg\n",
      "Processing file:  C:/Ambarish/shopppeedata2/0d40c093f7f0b0e8c611c07b0299dd31.jpg\n",
      "Processing file:  C:/Ambarish/shopppeedata2/0d435a2acda93a0dc057e9c8c31b6a04.jpg\n",
      "Processing file:  C:/Ambarish/shopppeedata2/0d49bf290ffc31c7a6aa8bafce752ee2.jpg\n",
      "Processing file:  C:/Ambarish/shopppeedata2/0d4ae1e2aa9fb614addc32a9512f7d9b.jpg\n",
      "Processing file:  C:/Ambarish/shopppeedata2/0d4e61759c158e5dc7c411735abd2071.jpg\n",
      "Processing file:  C:/Ambarish/shopppeedata2/0d536a02ddbc7597ba16816493e2addc.jpg\n",
      "Processing file:  C:/Ambarish/shopppeedata2/0d538d1c56e0e4d822c3ab3c603923a4.jpg\n",
      "Processing file:  C:/Ambarish/shopppeedata2/0d56d47275d37b2d9613795b5223036c.jpg\n",
      "Processing file:  C:/Ambarish/shopppeedata2/0d5ffa8ce4db533fc087a27737cd94a4.jpg\n",
      "Processing file:  C:/Ambarish/shopppeedata2/0d63b4d05f36a59ce3255e63c5725679.jpg\n",
      "Processing file:  C:/Ambarish/shopppeedata2/0d6dd6c9fcd4278dbb407079595faa27.jpg\n",
      "Processing file:  C:/Ambarish/shopppeedata2/0d704eba2ada3c24bd8a2575f02601d2.jpg\n",
      "Processing file:  C:/Ambarish/shopppeedata2/0d720c866d59c1cdbb5dfe952f1a29a5.jpg\n",
      "Processing file:  C:/Ambarish/shopppeedata2/0d72c1356edf006650f3b2506fa2c189.jpg\n",
      "Processing file:  C:/Ambarish/shopppeedata2/0d72fba31cf6ff4393d4e354b5c69f2c.jpg\n",
      "Processing file:  C:/Ambarish/shopppeedata2/0d791a556774ef937ea5e4dbaca7b207.jpg\n",
      "Processing file:  C:/Ambarish/shopppeedata2/0d7a0858c4eeb748203d95ca6799c891.jpg\n",
      "Processing file:  C:/Ambarish/shopppeedata2/0d7b908b610c6736038a34bf79caf764.jpg\n",
      "Processing file:  C:/Ambarish/shopppeedata2/0d7d12277a6e433468b65c903a805e2b.jpg\n",
      "Processing file:  C:/Ambarish/shopppeedata2/0d818ad31cab3f1de7f2edf4e2a965dd.jpg\n",
      "Processing file:  C:/Ambarish/shopppeedata2/0d84fb4b76a915fd0869ee76a6c2ddf8.jpg\n",
      "Processing file:  C:/Ambarish/shopppeedata2/0d85faa5ab150371c6d2b04245468916.jpg\n",
      "Processing file:  C:/Ambarish/shopppeedata2/0d86c39bfa2b4e4f501f5e031bc95e23.jpg\n",
      "Processing file:  C:/Ambarish/shopppeedata2/0d88a0db34f403810b1d5de082cfb36a.jpg\n",
      "Processing file:  C:/Ambarish/shopppeedata2/0d8d372342bdee41286eb1548c17c65e.jpg\n",
      "Processing file:  C:/Ambarish/shopppeedata2/0d94e91ba8447daacba671cdf556febd.jpg\n",
      "Processing file:  C:/Ambarish/shopppeedata2/0d9aa31e546d0487cc0fe6101204baef.jpg\n",
      "Processing file:  C:/Ambarish/shopppeedata2/0d9ce288f332ce3f6d31a4f710b8159b.jpg\n",
      "Processing file:  C:/Ambarish/shopppeedata2/0d9dfd02961c74ef6e2dad7970eaf288.jpg\n",
      "Processing file:  C:/Ambarish/shopppeedata2/0d9ff095e35e0b138959417d3e998151.jpg\n"
     ]
    }
   ],
   "source": [
    "insert_pinecone_file_path(FILE_PATH)"
   ]
  },
  {
   "cell_type": "code",
   "execution_count": null,
   "metadata": {},
   "outputs": [],
   "source": []
  }
 ],
 "metadata": {
  "kernelspec": {
   "display_name": "base",
   "language": "python",
   "name": "python3"
  },
  "language_info": {
   "codemirror_mode": {
    "name": "ipython",
    "version": 3
   },
   "file_extension": ".py",
   "mimetype": "text/x-python",
   "name": "python",
   "nbconvert_exporter": "python",
   "pygments_lexer": "ipython3",
   "version": "3.9.13"
  },
  "orig_nbformat": 4
 },
 "nbformat": 4,
 "nbformat_minor": 2
}
