{
 "cells": [
  {
   "cell_type": "code",
   "execution_count": 30,
   "metadata": {},
   "outputs": [],
   "source": [
    "FILE_NAME = \"C:/Ambarish/sustainability_hackathon/source/sustainability_hub/NCERT/CHAP04AnimalKingdom.pdf\"\n",
    "\n",
    "# Model Settings\n",
    "MODEL_NAME=\"all-MiniLM-L6-v2\"\n",
    "\n",
    "# Pinecone Settings\n",
    "PINECONE_API_KEY=\"e72e0b7c-e243-41eb-b497-3fc23b3105fb\"\n",
    "PINECONE_INDEX_NAME=\"ncert\"\n",
    "PINECONE_REGION=\"us-east1-gcp\""
   ]
  },
  {
   "cell_type": "code",
   "execution_count": 31,
   "metadata": {},
   "outputs": [],
   "source": [
    "from PyPDF2 import PdfReader\n",
    "import pinecone\n",
    "from sentence_transformers import SentenceTransformer"
   ]
  },
  {
   "cell_type": "code",
   "execution_count": 32,
   "metadata": {},
   "outputs": [],
   "source": [
    "def get_pdf_data(file_path, num_pages = 1):\n",
    "    reader = PdfReader(file_path)\n",
    "    full_doc_text = \"\"\n",
    "\n",
    "    try:\n",
    "        for page in range(num_pages):\n",
    "            current_page = reader.pages[page]\n",
    "            text = current_page.extract_text()\n",
    "            full_doc_text += text\n",
    "    except:\n",
    "        print(\"Error reading file\")\n",
    "    finally:\n",
    "        return full_doc_text"
   ]
  },
  {
   "cell_type": "code",
   "execution_count": 33,
   "metadata": {},
   "outputs": [],
   "source": [
    "def get_chunks(fulltext:str,chunk_length =500) -> list:\n",
    "    text = fulltext\n",
    "\n",
    "    chunks = []\n",
    "    while len(text) > chunk_length:\n",
    "        last_period_index = text[:chunk_length].rfind('.')\n",
    "        if last_period_index == -1:\n",
    "            last_period_index = chunk_length\n",
    "        chunks.append(text[:last_period_index])\n",
    "        text = text[last_period_index+1:]\n",
    "    chunks.append(text)\n",
    "\n",
    "    return chunks"
   ]
  },
  {
   "cell_type": "code",
   "execution_count": 34,
   "metadata": {},
   "outputs": [],
   "source": [
    "full_doc_text = get_pdf_data(FILE_NAME)"
   ]
  },
  {
   "cell_type": "code",
   "execution_count": 35,
   "metadata": {},
   "outputs": [],
   "source": [
    "Lines = get_chunks(full_doc_text)"
   ]
  },
  {
   "cell_type": "code",
   "execution_count": 36,
   "metadata": {},
   "outputs": [
    {
     "data": {
      "text/plain": [
       "4"
      ]
     },
     "execution_count": 36,
     "metadata": {},
     "output_type": "execute_result"
    }
   ],
   "source": [
    "len(Lines)"
   ]
  },
  {
   "cell_type": "code",
   "execution_count": 37,
   "metadata": {},
   "outputs": [
    {
     "data": {
      "text/plain": [
       "'ANIMAL KINGDOM 3737\\nWhen you look around, you will observe different animals with different\\nstructures and forms.  As over a million species of animals have been\\ndescribed till now, the need for classification becomes all the more\\nimportant. The classification also helps in assigning a systematic position\\nto newly described species.\\n4'"
      ]
     },
     "execution_count": 37,
     "metadata": {},
     "output_type": "execute_result"
    }
   ],
   "source": [
    "Lines[0]"
   ]
  },
  {
   "attachments": {},
   "cell_type": "markdown",
   "metadata": {},
   "source": [
    "# PINECONE "
   ]
  },
  {
   "cell_type": "code",
   "execution_count": 38,
   "metadata": {},
   "outputs": [],
   "source": [
    "pinecone.init(api_key=PINECONE_API_KEY, environment=PINECONE_REGION)\n",
    "index = pinecone.Index(PINECONE_INDEX_NAME)"
   ]
  },
  {
   "cell_type": "code",
   "execution_count": 39,
   "metadata": {},
   "outputs": [],
   "source": [
    "model = SentenceTransformer(MODEL_NAME)"
   ]
  },
  {
   "cell_type": "code",
   "execution_count": 40,
   "metadata": {},
   "outputs": [],
   "source": [
    "def addData(corpusData):\n",
    "    id  = index.describe_index_stats()['total_vector_count']\n",
    "    for i in range(len(corpusData)):\n",
    "        chunk=corpusData[i]\n",
    "        chunkInfo=(str(id+i),\n",
    "                model.encode(chunk).tolist(),\n",
    "                {'sentence': chunk})\n",
    "        index.upsert(vectors=[chunkInfo])"
   ]
  },
  {
   "cell_type": "code",
   "execution_count": 41,
   "metadata": {},
   "outputs": [],
   "source": [
    "addData(Lines)"
   ]
  },
  {
   "cell_type": "code",
   "execution_count": 62,
   "metadata": {},
   "outputs": [],
   "source": [
    "query = \"What is BioMolecule?\"\n",
    "\n",
    "xq = model.encode([query]).tolist()"
   ]
  },
  {
   "cell_type": "code",
   "execution_count": 63,
   "metadata": {},
   "outputs": [
    {
     "data": {
      "text/plain": [
       "<pinecone.index.Index at 0x20ca8320f40>"
      ]
     },
     "execution_count": 63,
     "metadata": {},
     "output_type": "execute_result"
    }
   ],
   "source": [
    "index"
   ]
  },
  {
   "cell_type": "code",
   "execution_count": 64,
   "metadata": {},
   "outputs": [],
   "source": [
    "xc = index.query(xq, top_k=3,\n",
    "                 include_metadata=True)"
   ]
  },
  {
   "cell_type": "code",
   "execution_count": 65,
   "metadata": {},
   "outputs": [
    {
     "data": {
      "text/plain": [
       "{'matches': [{'id': '22',\n",
       "              'metadata': {'sentence': 'BIOMOLECULESCHAPTER   9\\n'\n",
       "                                       '9.1 How to Analyse\\n'\n",
       "                                       'Chemical\\n'\n",
       "                                       'Composition?\\n'\n",
       "                                       '9.2 Primary and\\n'\n",
       "                                       'Secondary\\n'\n",
       "                                       'Metabolites\\n'\n",
       "                                       '9.3 Biomacromolecules\\n'\n",
       "                                       '9.4 Proteins\\n'\n",
       "                                       '9.5 Polysaccharides\\n'\n",
       "                                       '9.6 Nucleic Acids\\n'\n",
       "                                       '9.7 Structure of\\n'\n",
       "                                       'Proteins\\n'\n",
       "                                       '9.8 Enzymes\\n'\n",
       "                                       'Rationalised 2023-24\\n'},\n",
       "              'score': 0.455934435,\n",
       "              'values': []},\n",
       "             {'id': '18',\n",
       "              'metadata': {'sentence': '104 BIOLOGY\\n'\n",
       "                                       'There is a wide diversity in living '\n",
       "                                       'organisms in our biosphere. Now a\\n'\n",
       "                                       'question that arises in our minds is: '\n",
       "                                       'Are all living organisms made of the\\n'\n",
       "                                       'same chemicals, i.e., elements and '\n",
       "                                       'compounds? Y ou have lear nt in\\n'\n",
       "                                       'chemistry how elemental analysis is '\n",
       "                                       'performed. If we perform such an\\n'\n",
       "                                       'analysis on a plant tissue, animal '\n",
       "                                       'tissue or a microbial paste, we obtain '\n",
       "                                       'a\\n'\n",
       "                                       'list of elements like carbon, '\n",
       "                                       'hydrogen, oxygen and several others '\n",
       "                                       'and\\n'\n",
       "                                       'their respective content per unit mass '\n",
       "                                       'of a living tissue'},\n",
       "              'score': 0.423256636,\n",
       "              'values': []},\n",
       "             {'id': '26',\n",
       "              'metadata': {'sentence': ' Here\\n'\n",
       "                                       'the cells performing the same function '\n",
       "                                       'are arranged into tissues, hence is\\n'\n",
       "                                       'called tissue level  of organisation. '\n",
       "                                       'A still higher level of organisation, '\n",
       "                                       'i.e.,\\n'\n",
       "                                       'organ level  is exhibited by members '\n",
       "                                       'of Platyhelminthes and other higher\\n'\n",
       "                                       'phyla where tissues are grouped '\n",
       "                                       'together to form organs, each '\n",
       "                                       'specialised\\n'\n",
       "                                       'for a particular function. In animals '\n",
       "                                       'like Annelids, Arthropods, '\n",
       "                                       'Molluscs,ANIMAL KINGDOMCHAPTER   4\\n'\n",
       "                                       '4.1Basis of\\n'\n",
       "                                       'Classification\\n'\n",
       "                                       '4.2Classification of\\n'\n",
       "                                       'Animals\\n'\n",
       "                                       'Rationalised 2023-24\\n'},\n",
       "              'score': 0.322007537,\n",
       "              'values': []}],\n",
       " 'namespace': ''}"
      ]
     },
     "execution_count": 65,
     "metadata": {},
     "output_type": "execute_result"
    }
   ],
   "source": [
    "xc"
   ]
  },
  {
   "cell_type": "code",
   "execution_count": 66,
   "metadata": {},
   "outputs": [],
   "source": [
    "contexts = [\n",
    "        x['metadata']['sentence'] for x in xc['matches']\n",
    "    ]"
   ]
  },
  {
   "cell_type": "code",
   "execution_count": 67,
   "metadata": {},
   "outputs": [
    {
     "data": {
      "text/plain": [
       "['BIOMOLECULESCHAPTER   9\\n9.1 How to Analyse\\nChemical\\nComposition?\\n9.2 Primary and\\nSecondary\\nMetabolites\\n9.3 Biomacromolecules\\n9.4 Proteins\\n9.5 Polysaccharides\\n9.6 Nucleic Acids\\n9.7 Structure of\\nProteins\\n9.8 Enzymes\\nRationalised 2023-24\\n',\n",
       " '104 BIOLOGY\\nThere is a wide diversity in living organisms in our biosphere. Now a\\nquestion that arises in our minds is: Are all living organisms made of the\\nsame chemicals, i.e., elements and compounds? Y ou have lear nt in\\nchemistry how elemental analysis is performed. If we perform such an\\nanalysis on a plant tissue, animal tissue or a microbial paste, we obtain a\\nlist of elements like carbon, hydrogen, oxygen and several others and\\ntheir respective content per unit mass of a living tissue',\n",
       " ' Here\\nthe cells performing the same function are arranged into tissues, hence is\\ncalled tissue level  of organisation. A still higher level of organisation, i.e.,\\norgan level  is exhibited by members of Platyhelminthes and other higher\\nphyla where tissues are grouped together to form organs, each specialised\\nfor a particular function. In animals like Annelids, Arthropods, Molluscs,ANIMAL KINGDOMCHAPTER   4\\n4.1Basis of\\nClassification\\n4.2Classification of\\nAnimals\\nRationalised 2023-24\\n']"
      ]
     },
     "execution_count": 67,
     "metadata": {},
     "output_type": "execute_result"
    }
   ],
   "source": [
    "contexts"
   ]
  },
  {
   "cell_type": "code",
   "execution_count": 68,
   "metadata": {},
   "outputs": [
    {
     "name": "stdout",
     "output_type": "stream",
     "text": [
      "BIOMOLECULESCHAPTER   9\n",
      "9.1 How to Analyse\n",
      "Chemical\n",
      "Composition?\n",
      "9.2 Primary and\n",
      "Secondary\n",
      "Metabolites\n",
      "9.3 Biomacromolecules\n",
      "9.4 Proteins\n",
      "9.5 Polysaccharides\n",
      "9.6 Nucleic Acids\n",
      "9.7 Structure of\n",
      "Proteins\n",
      "9.8 Enzymes\n",
      "Rationalised 2023-24\n",
      "\n",
      "---\n",
      "104 BIOLOGY\n",
      "There is a wide diversity in living organisms in our biosphere. Now a\n",
      "question that arises in our minds is: Are all living organisms made of the\n",
      "same chemicals, i.e., elements and compounds? Y ou have lear nt in\n",
      "chemistry how elemental analysis is performed. If we perform such an\n",
      "analysis on a plant tissue, animal tissue or a microbial paste, we obtain a\n",
      "list of elements like carbon, hydrogen, oxygen and several others and\n",
      "their respective content per unit mass of a living tissue\n",
      "---\n",
      " Here\n",
      "the cells performing the same function are arranged into tissues, hence is\n",
      "called tissue level  of organisation. A still higher level of organisation, i.e.,\n",
      "organ level  is exhibited by members of Platyhelminthes and other higher\n",
      "phyla where tissues are grouped together to form organs, each specialised\n",
      "for a particular function. In animals like Annelids, Arthropods, Molluscs,ANIMAL KINGDOMCHAPTER   4\n",
      "4.1Basis of\n",
      "Classification\n",
      "4.2Classification of\n",
      "Animals\n",
      "Rationalised 2023-24\n",
      "\n",
      "---\n"
     ]
    }
   ],
   "source": [
    "xc = index.query(xq, top_k=3,\n",
    "                 include_metadata=True)\n",
    "for context in xc['matches']:\n",
    "    print(context['metadata']['sentence'], end=\"\\n---\\n\")"
   ]
  },
  {
   "cell_type": "code",
   "execution_count": 69,
   "metadata": {},
   "outputs": [],
   "source": [
    "import openai\n",
    "key = 'd6bcc40e68fc4119abcd43b4661dc8e3'\n",
    "location = 'eastus'\n",
    "endpoint = 'https://openaidemos007.openai.azure.com/'\n",
    "openai.api_type = \"azure\"\n",
    "openai.api_key = key\n",
    "openai.api_base = endpoint\n",
    "deployment_id_gpt4='gpt4'\n",
    "openai.api_key = key\n",
    "\n",
    "def create_prompt(context,query):\n",
    "    header = \"Answer the question as truthfully as possible using the provided context, and if the answer is not contained within the text and requires some latest information to be updated, print 'Sorry Not Sufficient context to answer query' \\n\"\n",
    "    return header + context + \"\\n\\n\" + query + \"\\n\"\n",
    "\n",
    "\n",
    "def generate_answer(conversation):\n",
    "    openai.api_version = \"2023-03-15-preview\"\n",
    "    response = openai.ChatCompletion.create(\n",
    "    engine=deployment_id_gpt4,\n",
    "    messages=conversation,\n",
    "    temperature=0,\n",
    "    max_tokens=1000,\n",
    "    top_p=1,\n",
    "    frequency_penalty=0,\n",
    "    presence_penalty=0,\n",
    "    stop = [' END']\n",
    "    )\n",
    "    return (response['choices'][0]['message']['content']).strip()\n"
   ]
  },
  {
   "cell_type": "code",
   "execution_count": 70,
   "metadata": {},
   "outputs": [],
   "source": [
    "conversation=[{\"role\": \"system\", \"content\": \"Assistant is a large language model trained by OpenAI.\"}]\n",
    "context= \"\\n\\n\".join(contexts)\n",
    "prompt = create_prompt(context,query)            \n",
    "conversation.append({\"role\": \"assistant\", \"content\": prompt})\n",
    "conversation.append({\"role\": \"user\", \"content\": query})\n",
    "reply = generate_answer(conversation)"
   ]
  },
  {
   "cell_type": "code",
   "execution_count": 71,
   "metadata": {},
   "outputs": [
    {
     "data": {
      "text/plain": [
       "'BIOMOLECULESCHAPTER   9\\n9.1 How to Analyse\\nChemical\\nComposition?\\n9.2 Primary and\\nSecondary\\nMetabolites\\n9.3 Biomacromolecules\\n9.4 Proteins\\n9.5 Polysaccharides\\n9.6 Nucleic Acids\\n9.7 Structure of\\nProteins\\n9.8 Enzymes\\nRationalised 2023-24\\n\\n\\n104 BIOLOGY\\nThere is a wide diversity in living organisms in our biosphere. Now a\\nquestion that arises in our minds is: Are all living organisms made of the\\nsame chemicals, i.e., elements and compounds? Y ou have lear nt in\\nchemistry how elemental analysis is performed. If we perform such an\\nanalysis on a plant tissue, animal tissue or a microbial paste, we obtain a\\nlist of elements like carbon, hydrogen, oxygen and several others and\\ntheir respective content per unit mass of a living tissue\\n\\n Here\\nthe cells performing the same function are arranged into tissues, hence is\\ncalled tissue level  of organisation. A still higher level of organisation, i.e.,\\norgan level  is exhibited by members of Platyhelminthes and other higher\\nphyla where tissues are grouped together to form organs, each specialised\\nfor a particular function. In animals like Annelids, Arthropods, Molluscs,ANIMAL KINGDOMCHAPTER   4\\n4.1Basis of\\nClassification\\n4.2Classification of\\nAnimals\\nRationalised 2023-24\\n'"
      ]
     },
     "execution_count": 71,
     "metadata": {},
     "output_type": "execute_result"
    }
   ],
   "source": [
    "context"
   ]
  },
  {
   "cell_type": "code",
   "execution_count": 72,
   "metadata": {},
   "outputs": [
    {
     "data": {
      "text/plain": [
       "'A biomolecule is a molecule that is produced by living organisms and plays a significant role in the biological processes and functions of these organisms. Biomolecules include a wide range of molecules, such as proteins, nucleic acids, carbohydrates, and lipids. They are essential for the structure, function, and regulation of cells, tissues, and organs, and are involved in various processes like metabolism, growth, and reproduction.'"
      ]
     },
     "execution_count": 72,
     "metadata": {},
     "output_type": "execute_result"
    }
   ],
   "source": [
    "reply"
   ]
  },
  {
   "cell_type": "code",
   "execution_count": null,
   "metadata": {},
   "outputs": [],
   "source": []
  }
 ],
 "metadata": {
  "kernelspec": {
   "display_name": "base",
   "language": "python",
   "name": "python3"
  },
  "language_info": {
   "codemirror_mode": {
    "name": "ipython",
    "version": 3
   },
   "file_extension": ".py",
   "mimetype": "text/x-python",
   "name": "python",
   "nbconvert_exporter": "python",
   "pygments_lexer": "ipython3",
   "version": "3.9.13"
  },
  "orig_nbformat": 4
 },
 "nbformat": 4,
 "nbformat_minor": 2
}
