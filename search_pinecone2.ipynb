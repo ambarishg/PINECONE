{
 "cells": [
  {
   "cell_type": "code",
   "execution_count": 1,
   "metadata": {},
   "outputs": [],
   "source": [
    "# Model Settings\n",
    "MODEL_NAME=\"all-MiniLM-L6-v2\"\n",
    "\n",
    "# Pinecone Settings\n",
    "PINECONE_API_KEY=\"e72e0b7c-e243-41eb-b497-3fc23b3105fb\"\n",
    "PINECONE_INDEX_NAME=\"docs\"\n",
    "PINECONE_REGION=\"us-east1-gcp\""
   ]
  },
  {
   "cell_type": "code",
   "execution_count": 2,
   "metadata": {},
   "outputs": [
    {
     "name": "stderr",
     "output_type": "stream",
     "text": [
      "C:\\Users\\ambar\\AppData\\Roaming\\Python\\Python39\\site-packages\\pinecone\\index.py:4: TqdmExperimentalWarning: Using `tqdm.autonotebook.tqdm` in notebook mode. Use `tqdm.tqdm` instead to force console mode (e.g. in jupyter console)\n",
      "  from tqdm.autonotebook import tqdm\n"
     ]
    }
   ],
   "source": [
    "import pinecone\n",
    "from sentence_transformers import SentenceTransformer"
   ]
  },
  {
   "attachments": {},
   "cell_type": "markdown",
   "metadata": {},
   "source": [
    "# PINECONE "
   ]
  },
  {
   "cell_type": "code",
   "execution_count": 3,
   "metadata": {},
   "outputs": [],
   "source": [
    "pinecone.init(api_key=PINECONE_API_KEY, environment=PINECONE_REGION)\n",
    "index = pinecone.Index(PINECONE_INDEX_NAME)"
   ]
  },
  {
   "cell_type": "code",
   "execution_count": 4,
   "metadata": {},
   "outputs": [],
   "source": [
    "model = SentenceTransformer(MODEL_NAME)"
   ]
  },
  {
   "cell_type": "code",
   "execution_count": 5,
   "metadata": {},
   "outputs": [],
   "source": [
    "query = \"What is a Locomotion?\"\n",
    "\n",
    "xq = model.encode([query]).tolist()"
   ]
  },
  {
   "cell_type": "code",
   "execution_count": 6,
   "metadata": {},
   "outputs": [],
   "source": [
    "length = 512 - 384 \n",
    "list_custom = [1] * length\n",
    "embedding_all = xq + list_custom"
   ]
  },
  {
   "cell_type": "code",
   "execution_count": 7,
   "metadata": {},
   "outputs": [],
   "source": [
    "xc = index.query(embedding_all, top_k=3,\n",
    "                 include_metadata=True)"
   ]
  },
  {
   "cell_type": "code",
   "execution_count": 8,
   "metadata": {},
   "outputs": [
    {
     "data": {
      "text/plain": [
       "{'matches': [{'id': '508',\n",
       "              'metadata': {'category': 'ncert',\n",
       "                           'filename': 'C:/Ambarish/PINECONE/docs/Chap20Locomotion.pdf',\n",
       "                           'sentence': ' The above\\n'\n",
       "                                       'observations suggest that movements '\n",
       "                                       'and locomotion cannot be studied\\n'\n",
       "                                       'separately. The two may be linked by '\n",
       "                                       'stating that all locomotions are\\n'\n",
       "                                       'movements but all movements are not '\n",
       "                                       'locomotions.\\n'\n",
       "                                       'Methods of locomotion performed by '\n",
       "                                       'animals vary with their habitats\\n'\n",
       "                                       'and the demand of the situation. '\n",
       "                                       'However , locomotion is generally for\\n'\n",
       "                                       'search of food, shelter , mate, '\n",
       "                                       'suitable br\\n'\n",
       "                                       'eeding gr ounds, favourable\\n'\n",
       "                                       'climatic conditions or to escape from '\n",
       "                                       'enemies/predators.\\n'\n",
       "                                       '20'},\n",
       "              'score': 0.997656524,\n",
       "              'values': []},\n",
       "             {'id': '506',\n",
       "              'metadata': {'category': 'ncert',\n",
       "                           'filename': 'C:/Ambarish/PINECONE/docs/Chap20Locomotion.pdf',\n",
       "                           'sentence': '302 BIOLOGY\\n'\n",
       "                                       'Movement is one of the  significant '\n",
       "                                       'features of living beings. Animals '\n",
       "                                       'and\\n'\n",
       "                                       'plants exhibit a wide range of '\n",
       "                                       'movements. Streaming of protoplasm in\\n'\n",
       "                                       'the unicellular organisms like Amoeba '\n",
       "                                       'is a simple form of movement.\\n'\n",
       "                                       'Movement of cilia, flagella and '\n",
       "                                       'tentacles are shown by many '\n",
       "                                       'organisms.\\n'\n",
       "                                       'Human beings can move limbs, jaws, '\n",
       "                                       'eyelids, tongue, etc. Some of the\\n'\n",
       "                                       'movements result in a change of place '\n",
       "                                       'or location. Such voluntary\\n'\n",
       "                                       'movements ar e called locomotion '},\n",
       "              'score': 0.996944,\n",
       "              'values': []},\n",
       "             {'id': '507',\n",
       "              'metadata': {'category': 'ncert',\n",
       "                           'filename': 'C:/Ambarish/PINECONE/docs/Chap20Locomotion.pdf',\n",
       "                           'sentence': ' Walking, running, climbing, flying,\\n'\n",
       "                                       'swimming are all some forms of '\n",
       "                                       'locomotory movements. Locomotory\\n'\n",
       "                                       'structures need not be different from '\n",
       "                                       'those affecting other types of\\n'\n",
       "                                       'movements. For example, in Paramoecium '\n",
       "                                       ', cilia helps in the movement of\\n'\n",
       "                                       'food through cytopharynx and in '\n",
       "                                       'locomotion as well. Hydra  can use '\n",
       "                                       'its\\n'\n",
       "                                       'tentacles for capturing its pr ey and '\n",
       "                                       'also use them for locomotion. W e use\\n'\n",
       "                                       'limbs for changes in body postures and '\n",
       "                                       'locomotion as well'},\n",
       "              'score': 0.996829629,\n",
       "              'values': []}],\n",
       " 'namespace': ''}"
      ]
     },
     "execution_count": 8,
     "metadata": {},
     "output_type": "execute_result"
    }
   ],
   "source": [
    "xc"
   ]
  },
  {
   "cell_type": "code",
   "execution_count": 9,
   "metadata": {},
   "outputs": [],
   "source": [
    "contexts = [\n",
    "        x['metadata']['sentence'] for x in xc['matches']\n",
    "    ]"
   ]
  },
  {
   "cell_type": "code",
   "execution_count": 10,
   "metadata": {},
   "outputs": [
    {
     "data": {
      "text/plain": [
       "[' The above\\nobservations suggest that movements and locomotion cannot be studied\\nseparately. The two may be linked by stating that all locomotions are\\nmovements but all movements are not locomotions.\\nMethods of locomotion performed by animals vary with their habitats\\nand the demand of the situation. However , locomotion is generally for\\nsearch of food, shelter , mate, suitable br\\needing gr ounds, favourable\\nclimatic conditions or to escape from enemies/predators.\\n20',\n",
       " '302 BIOLOGY\\nMovement is one of the  significant features of living beings. Animals and\\nplants exhibit a wide range of movements. Streaming of protoplasm in\\nthe unicellular organisms like Amoeba is a simple form of movement.\\nMovement of cilia, flagella and tentacles are shown by many organisms.\\nHuman beings can move limbs, jaws, eyelids, tongue, etc. Some of the\\nmovements result in a change of place or location. Such voluntary\\nmovements ar e called locomotion ',\n",
       " ' Walking, running, climbing, flying,\\nswimming are all some forms of locomotory movements. Locomotory\\nstructures need not be different from those affecting other types of\\nmovements. For example, in Paramoecium , cilia helps in the movement of\\nfood through cytopharynx and in locomotion as well. Hydra  can use its\\ntentacles for capturing its pr ey and also use them for locomotion. W e use\\nlimbs for changes in body postures and locomotion as well']"
      ]
     },
     "execution_count": 10,
     "metadata": {},
     "output_type": "execute_result"
    }
   ],
   "source": [
    "contexts"
   ]
  },
  {
   "cell_type": "code",
   "execution_count": 11,
   "metadata": {},
   "outputs": [],
   "source": [
    "import openai\n",
    "key = 'd6bcc40e68fc4119abcd43b4661dc8e3'\n",
    "location = 'eastus'\n",
    "endpoint = 'https://openaidemos007.openai.azure.com/'\n",
    "openai.api_type = \"azure\"\n",
    "openai.api_key = key\n",
    "openai.api_base = endpoint\n",
    "deployment_id_gpt4='gpt4'\n",
    "openai.api_key = key\n",
    "\n",
    "def create_prompt(context,query):\n",
    "    header = \"Answer the question as truthfully as possible using the provided context, and if the answer is not contained within the text and requires some latest information to be updated, print 'Sorry Not Sufficient context to answer query' \\n\"\n",
    "    return header + context + \"\\n\\n\" + query + \"\\n\"\n",
    "\n",
    "\n",
    "def generate_answer(conversation):\n",
    "    openai.api_version = \"2023-03-15-preview\"\n",
    "    response = openai.ChatCompletion.create(\n",
    "    engine=deployment_id_gpt4,\n",
    "    messages=conversation,\n",
    "    temperature=0,\n",
    "    max_tokens=1000,\n",
    "    top_p=1,\n",
    "    frequency_penalty=0,\n",
    "    presence_penalty=0,\n",
    "    stop = [' END']\n",
    "    )\n",
    "    return (response['choices'][0]['message']['content']).strip()\n"
   ]
  },
  {
   "cell_type": "code",
   "execution_count": 12,
   "metadata": {},
   "outputs": [],
   "source": [
    "conversation=[{\"role\": \"system\", \"content\": \"Assistant is a large language model trained by OpenAI.\"}]\n",
    "context= \"\\n\\n\".join(contexts)\n",
    "prompt = create_prompt(context,query)            \n",
    "conversation.append({\"role\": \"assistant\", \"content\": prompt})\n",
    "conversation.append({\"role\": \"user\", \"content\": query})\n",
    "reply = generate_answer(conversation)"
   ]
  },
  {
   "cell_type": "code",
   "execution_count": 13,
   "metadata": {},
   "outputs": [
    {
     "data": {
      "text/plain": [
       "' The above\\nobservations suggest that movements and locomotion cannot be studied\\nseparately. The two may be linked by stating that all locomotions are\\nmovements but all movements are not locomotions.\\nMethods of locomotion performed by animals vary with their habitats\\nand the demand of the situation. However , locomotion is generally for\\nsearch of food, shelter , mate, suitable br\\needing gr ounds, favourable\\nclimatic conditions or to escape from enemies/predators.\\n20\\n\\n302 BIOLOGY\\nMovement is one of the  significant features of living beings. Animals and\\nplants exhibit a wide range of movements. Streaming of protoplasm in\\nthe unicellular organisms like Amoeba is a simple form of movement.\\nMovement of cilia, flagella and tentacles are shown by many organisms.\\nHuman beings can move limbs, jaws, eyelids, tongue, etc. Some of the\\nmovements result in a change of place or location. Such voluntary\\nmovements ar e called locomotion \\n\\n Walking, running, climbing, flying,\\nswimming are all some forms of locomotory movements. Locomotory\\nstructures need not be different from those affecting other types of\\nmovements. For example, in Paramoecium , cilia helps in the movement of\\nfood through cytopharynx and in locomotion as well. Hydra  can use its\\ntentacles for capturing its pr ey and also use them for locomotion. W e use\\nlimbs for changes in body postures and locomotion as well'"
      ]
     },
     "execution_count": 13,
     "metadata": {},
     "output_type": "execute_result"
    }
   ],
   "source": [
    "context"
   ]
  },
  {
   "cell_type": "code",
   "execution_count": 14,
   "metadata": {},
   "outputs": [
    {
     "data": {
      "text/plain": [
       "'Locomotion is a type of voluntary movement that results in a change of place or location. It is performed by animals for various purposes, such as searching for food, shelter, mates, suitable breeding grounds, favorable climatic conditions, or to escape from enemies/predators. Examples of locomotion include walking, running, climbing, flying, and swimming.'"
      ]
     },
     "execution_count": 14,
     "metadata": {},
     "output_type": "execute_result"
    }
   ],
   "source": [
    "reply"
   ]
  },
  {
   "cell_type": "code",
   "execution_count": 15,
   "metadata": {},
   "outputs": [
    {
     "name": "stdout",
     "output_type": "stream",
     "text": [
      "('Locomotion is a type of voluntary movement that results in a change of place '\n",
      " 'or location. It is performed by animals for various purposes, such as '\n",
      " 'searching for food, shelter, mates, suitable breeding grounds, favorable '\n",
      " 'climatic conditions, or to escape from enemies/predators. Examples of '\n",
      " 'locomotion include walking, running, climbing, flying, and swimming.')\n"
     ]
    }
   ],
   "source": [
    "from pprint import pprint\n",
    "pprint(reply)"
   ]
  },
  {
   "cell_type": "code",
   "execution_count": null,
   "metadata": {},
   "outputs": [],
   "source": []
  }
 ],
 "metadata": {
  "kernelspec": {
   "display_name": "base",
   "language": "python",
   "name": "python3"
  },
  "language_info": {
   "codemirror_mode": {
    "name": "ipython",
    "version": 3
   },
   "file_extension": ".py",
   "mimetype": "text/x-python",
   "name": "python",
   "nbconvert_exporter": "python",
   "pygments_lexer": "ipython3",
   "version": "3.9.13"
  },
  "orig_nbformat": 4
 },
 "nbformat": 4,
 "nbformat_minor": 2
}
