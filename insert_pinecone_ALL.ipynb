{
 "cells": [
  {
   "cell_type": "code",
   "execution_count": 1,
   "metadata": {},
   "outputs": [],
   "source": [
    "FILE_PATH = \"C:/Ambarish/PINECONE/docs/\"\n",
    "\n",
    "# Model Settings\n",
    "MODEL_NAME=\"all-MiniLM-L6-v2\"\n",
    "\n",
    "# Pinecone Settings\n",
    "PINECONE_API_KEY=\"e72e0b7c-e243-41eb-b497-3fc23b3105fb\"\n",
    "PINECONE_INDEX_NAME=\"docs\"\n",
    "PINECONE_REGION=\"us-east1-gcp\"\n",
    "CATEGORY=\"ncert\""
   ]
  },
  {
   "cell_type": "code",
   "execution_count": 2,
   "metadata": {},
   "outputs": [
    {
     "name": "stderr",
     "output_type": "stream",
     "text": [
      "C:\\Users\\ambar\\AppData\\Roaming\\Python\\Python39\\site-packages\\pinecone\\index.py:4: TqdmExperimentalWarning: Using `tqdm.autonotebook.tqdm` in notebook mode. Use `tqdm.tqdm` instead to force console mode (e.g. in jupyter console)\n",
      "  from tqdm.autonotebook import tqdm\n"
     ]
    }
   ],
   "source": [
    "from PyPDF2 import PdfReader\n",
    "import pinecone\n",
    "from sentence_transformers import SentenceTransformer\n",
    "import os\n",
    "import uuid \n",
    "from nltk.tokenize import sent_tokenize"
   ]
  },
  {
   "cell_type": "code",
   "execution_count": 3,
   "metadata": {},
   "outputs": [],
   "source": [
    "def get_pdf_data(file_path, num_pages = 1):\n",
    "    reader = PdfReader(file_path)\n",
    "    full_doc_text = \"\"\n",
    "    pages = reader.pages\n",
    "    num_pages = len(pages) \n",
    "    \n",
    "    try:\n",
    "        for page in range(num_pages):\n",
    "            current_page = reader.pages[page]\n",
    "            text = current_page.extract_text()\n",
    "            full_doc_text += text\n",
    "    except:\n",
    "        print(\"Error reading file\")\n",
    "    finally:\n",
    "        return full_doc_text"
   ]
  },
  {
   "cell_type": "code",
   "execution_count": 4,
   "metadata": {},
   "outputs": [],
   "source": [
    "def get_chunks(fulltext:str,chunk_length =500) -> list:\n",
    "    text = fulltext\n",
    "\n",
    "    chunks = []\n",
    "    while len(text) > chunk_length:\n",
    "        last_period_index = text[:chunk_length].rfind('.')\n",
    "        if last_period_index == -1:\n",
    "            last_period_index = chunk_length\n",
    "        chunks.append(text[:last_period_index])\n",
    "        text = text[last_period_index+1:]\n",
    "    chunks.append(text)\n",
    "\n",
    "    return chunks"
   ]
  },
  {
   "cell_type": "code",
   "execution_count": 5,
   "metadata": {},
   "outputs": [],
   "source": [
    "def split_text_into_chunks(plain_text, max_chars=500):\n",
    "    text_chunks = []\n",
    "    current_chunk = \"\"\n",
    "    for line in plain_text:\n",
    "        if len(current_chunk) + len(line) + 1 <= max_chars:\n",
    "            current_chunk += line + \" \"\n",
    "        else:\n",
    "            text_chunks.append(current_chunk.strip())\n",
    "            current_chunk = line + \" \"\n",
    "    if current_chunk:\n",
    "        text_chunks.append(current_chunk.strip())\n",
    "    return text_chunks"
   ]
  },
  {
   "cell_type": "code",
   "execution_count": 6,
   "metadata": {},
   "outputs": [],
   "source": [
    "pinecone.init(api_key=PINECONE_API_KEY, environment=PINECONE_REGION)\n",
    "index = pinecone.Index(PINECONE_INDEX_NAME)"
   ]
  },
  {
   "cell_type": "code",
   "execution_count": 7,
   "metadata": {},
   "outputs": [],
   "source": [
    "model = SentenceTransformer(MODEL_NAME)"
   ]
  },
  {
   "cell_type": "code",
   "execution_count": 8,
   "metadata": {},
   "outputs": [],
   "source": [
    "length = 512 - 384 \n",
    "list_custom = [1] * length"
   ]
  },
  {
   "cell_type": "code",
   "execution_count": 9,
   "metadata": {},
   "outputs": [],
   "source": [
    "def addData(corpusData,filename):\n",
    "    for i in range(len(corpusData)):\n",
    "        chunk=corpusData[i]\n",
    "        embedding = model.encode(chunk).tolist()\n",
    "        embedding_all = embedding + list_custom\n",
    "        chunkInfo=(str(uuid.uuid4()),\n",
    "                embedding_all,\n",
    "                {'sentence': chunk,'category':CATEGORY,'filename':filename})\n",
    "        index.upsert(vectors=[chunkInfo])"
   ]
  },
  {
   "cell_type": "code",
   "execution_count": 10,
   "metadata": {},
   "outputs": [],
   "source": [
    "def insert_pinecone(filename):\n",
    "    print(\"Processing file: \", filename)\n",
    "    full_doc_text = get_pdf_data(filename)\n",
    "    print(\"Number of characters: \", len(full_doc_text))\n",
    "    Lines = get_chunks(full_doc_text)\n",
    "    print(\"Number of chunks: \", len(Lines))\n",
    "    addData(Lines,filename)"
   ]
  },
  {
   "cell_type": "code",
   "execution_count": 11,
   "metadata": {},
   "outputs": [],
   "source": [
    "def insert_pinecone_file_path(file_path):\n",
    "    files = os.listdir(file_path)\n",
    "    for filename in files:\n",
    "        if filename.endswith(\".pdf\"):\n",
    "            insert_pinecone(file_path + filename)"
   ]
  },
  {
   "cell_type": "code",
   "execution_count": 12,
   "metadata": {},
   "outputs": [
    {
     "name": "stdout",
     "output_type": "stream",
     "text": [
      "Processing file:  C:/Ambarish/PINECONE/docs/CHAP04AnimalKingdom.pdf\n",
      "Number of characters:  31802\n",
      "Number of chunks:  73\n",
      "Processing file:  C:/Ambarish/PINECONE/docs/CHAP05StructuralOrganization.pdf\n",
      "Number of characters:  27664\n",
      "Number of chunks:  62\n",
      "Processing file:  C:/Ambarish/PINECONE/docs/CHAP06AnatomyFloweringPlants.pdf\n",
      "Number of characters:  13839\n",
      "Number of chunks:  32\n",
      "Processing file:  C:/Ambarish/PINECONE/docs/CHAP07StructuralOrganizationAnimals.pdf\n",
      "Number of characters:  14701\n",
      "Number of chunks:  33\n",
      "Processing file:  C:/Ambarish/PINECONE/docs/CHAP08CellStructure.pdf\n",
      "Number of characters:  38303\n",
      "Number of chunks:  88\n",
      "Processing file:  C:/Ambarish/PINECONE/docs/Chap09BioMolecules.pdf\n",
      "Number of characters:  35027\n",
      "Number of chunks:  81\n",
      "Processing file:  C:/Ambarish/PINECONE/docs/Chap10CellCycle.pdf\n",
      "Number of characters:  24648\n",
      "Number of chunks:  60\n",
      "Processing file:  C:/Ambarish/PINECONE/docs/Chap11PlantPhysiology.pdf\n",
      "Number of characters:  45169\n",
      "Number of chunks:  108\n",
      "Processing file:  C:/Ambarish/PINECONE/docs/Chap12RespirationPlants.pdf\n",
      "Number of characters:  29063\n",
      "Number of chunks:  68\n",
      "Processing file:  C:/Ambarish/PINECONE/docs/Chap13PlantGrowthAndDevelopment.pdf\n",
      "Number of characters:  29244\n",
      "Number of chunks:  67\n",
      "Processing file:  C:/Ambarish/PINECONE/docs/Chap14Breathing.pdf\n",
      "Number of characters:  22124\n",
      "Number of chunks:  52\n",
      "Processing file:  C:/Ambarish/PINECONE/docs/Chap15BodyFluidsAndCirculation.pdf\n",
      "Error reading file\n",
      "Number of characters:  1662\n",
      "Number of chunks:  4\n",
      "Processing file:  C:/Ambarish/PINECONE/docs/Chap16Excretion.pdf\n",
      "Number of characters:  23555\n",
      "Number of chunks:  53\n",
      "Processing file:  C:/Ambarish/PINECONE/docs/Chap17Locomotion.pdf\n",
      "Error reading file\n",
      "Number of characters:  8901\n",
      "Number of chunks:  20\n"
     ]
    }
   ],
   "source": [
    "insert_pinecone_file_path(FILE_PATH)"
   ]
  },
  {
   "cell_type": "code",
   "execution_count": null,
   "metadata": {},
   "outputs": [],
   "source": []
  }
 ],
 "metadata": {
  "kernelspec": {
   "display_name": "base",
   "language": "python",
   "name": "python3"
  },
  "language_info": {
   "codemirror_mode": {
    "name": "ipython",
    "version": 3
   },
   "file_extension": ".py",
   "mimetype": "text/x-python",
   "name": "python",
   "nbconvert_exporter": "python",
   "pygments_lexer": "ipython3",
   "version": "3.9.13"
  },
  "orig_nbformat": 4
 },
 "nbformat": 4,
 "nbformat_minor": 2
}
